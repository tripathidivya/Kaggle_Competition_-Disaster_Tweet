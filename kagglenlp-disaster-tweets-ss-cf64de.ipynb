{
 "cells": [
  {
   "cell_type": "code",
   "execution_count": 1,
   "id": "6e6af565",
   "metadata": {
    "_cell_guid": "b1076dfc-b9ad-4769-8c92-a6c4dae69d19",
    "_uuid": "8f2839f25d086af736a60e9eeb907d3b93b6e0e5",
    "execution": {
     "iopub.execute_input": "2023-02-23T13:14:32.216954Z",
     "iopub.status.busy": "2023-02-23T13:14:32.216518Z",
     "iopub.status.idle": "2023-02-23T13:14:32.232776Z",
     "shell.execute_reply": "2023-02-23T13:14:32.231495Z"
    },
    "papermill": {
     "duration": 0.031954,
     "end_time": "2023-02-23T13:14:32.235675",
     "exception": false,
     "start_time": "2023-02-23T13:14:32.203721",
     "status": "completed"
    },
    "tags": []
   },
   "outputs": [
    {
     "name": "stdout",
     "output_type": "stream",
     "text": [
      "/kaggle/input/nlp-getting-started/sample_submission.csv\n",
      "/kaggle/input/nlp-getting-started/train.csv\n",
      "/kaggle/input/nlp-getting-started/test.csv\n"
     ]
    }
   ],
   "source": [
    "# This Python 3 environment comes with many helpful analytics libraries installed\n",
    "# It is defined by the kaggle/python Docker image: https://github.com/kaggle/docker-python\n",
    "# For example, here's several helpful packages to load\n",
    "\n",
    "import numpy as np # linear algebra\n",
    "import pandas as pd # data processing, CSV file I/O (e.g. pd.read_csv)\n",
    "\n",
    "# Input data files are available in the read-only \"../input/\" directory\n",
    "# For example, running this (by clicking run or pressing Shift+Enter) will list all files under the input directory\n",
    "\n",
    "import os\n",
    "for dirname, _, filenames in os.walk('/kaggle/input'):\n",
    "    for filename in filenames:\n",
    "        print(os.path.join(dirname, filename))\n",
    "\n",
    "# You can write up to 20GB to the current directory (/kaggle/working/) that gets preserved as output when you create a version using \"Save & Run All\" \n",
    "# You can also write temporary files to /kaggle/temp/, but they won't be saved outside of the current session"
   ]
  },
  {
   "cell_type": "code",
   "execution_count": 2,
   "id": "d1337784",
   "metadata": {
    "execution": {
     "iopub.execute_input": "2023-02-23T13:14:32.258352Z",
     "iopub.status.busy": "2023-02-23T13:14:32.257093Z",
     "iopub.status.idle": "2023-02-23T13:14:33.963921Z",
     "shell.execute_reply": "2023-02-23T13:14:33.962583Z"
    },
    "papermill": {
     "duration": 1.721129,
     "end_time": "2023-02-23T13:14:33.967001",
     "exception": false,
     "start_time": "2023-02-23T13:14:32.245872",
     "status": "completed"
    },
    "tags": []
   },
   "outputs": [],
   "source": [
    "from wordcloud import WordCloud \n",
    "from nltk.corpus import stopwords\n",
    "import matplotlib\n",
    "from matplotlib import pyplot as plt\n",
    "from nltk.stem import WordNetLemmatizer\n",
    "from sklearn.feature_extraction.text import CountVectorizer, TfidfVectorizer\n",
    "from nltk.tokenize import word_tokenize\n",
    "import string\n",
    "import re\n",
    "from sklearn.pipeline import Pipeline\n",
    "from sklearn.model_selection import train_test_split\n",
    "from sklearn.naive_bayes import MultinomialNB\n",
    "from nltk.corpus import stopwords\n",
    "stop = stopwords.words('english')"
   ]
  },
  {
   "cell_type": "code",
   "execution_count": 3,
   "id": "351c3be0",
   "metadata": {
    "execution": {
     "iopub.execute_input": "2023-02-23T13:14:33.991125Z",
     "iopub.status.busy": "2023-02-23T13:14:33.990470Z",
     "iopub.status.idle": "2023-02-23T13:14:34.062179Z",
     "shell.execute_reply": "2023-02-23T13:14:34.061309Z"
    },
    "papermill": {
     "duration": 0.087327,
     "end_time": "2023-02-23T13:14:34.064940",
     "exception": false,
     "start_time": "2023-02-23T13:14:33.977613",
     "status": "completed"
    },
    "tags": []
   },
   "outputs": [
    {
     "data": {
      "text/html": [
       "<div>\n",
       "<style scoped>\n",
       "    .dataframe tbody tr th:only-of-type {\n",
       "        vertical-align: middle;\n",
       "    }\n",
       "\n",
       "    .dataframe tbody tr th {\n",
       "        vertical-align: top;\n",
       "    }\n",
       "\n",
       "    .dataframe thead th {\n",
       "        text-align: right;\n",
       "    }\n",
       "</style>\n",
       "<table border=\"1\" class=\"dataframe\">\n",
       "  <thead>\n",
       "    <tr style=\"text-align: right;\">\n",
       "      <th></th>\n",
       "      <th>id</th>\n",
       "      <th>keyword</th>\n",
       "      <th>location</th>\n",
       "      <th>text</th>\n",
       "      <th>target</th>\n",
       "    </tr>\n",
       "  </thead>\n",
       "  <tbody>\n",
       "    <tr>\n",
       "      <th>0</th>\n",
       "      <td>1</td>\n",
       "      <td>NaN</td>\n",
       "      <td>NaN</td>\n",
       "      <td>Our Deeds are the Reason of this #earthquake M...</td>\n",
       "      <td>1</td>\n",
       "    </tr>\n",
       "    <tr>\n",
       "      <th>1</th>\n",
       "      <td>4</td>\n",
       "      <td>NaN</td>\n",
       "      <td>NaN</td>\n",
       "      <td>Forest fire near La Ronge Sask. Canada</td>\n",
       "      <td>1</td>\n",
       "    </tr>\n",
       "    <tr>\n",
       "      <th>2</th>\n",
       "      <td>5</td>\n",
       "      <td>NaN</td>\n",
       "      <td>NaN</td>\n",
       "      <td>All residents asked to 'shelter in place' are ...</td>\n",
       "      <td>1</td>\n",
       "    </tr>\n",
       "    <tr>\n",
       "      <th>3</th>\n",
       "      <td>6</td>\n",
       "      <td>NaN</td>\n",
       "      <td>NaN</td>\n",
       "      <td>13,000 people receive #wildfires evacuation or...</td>\n",
       "      <td>1</td>\n",
       "    </tr>\n",
       "    <tr>\n",
       "      <th>4</th>\n",
       "      <td>7</td>\n",
       "      <td>NaN</td>\n",
       "      <td>NaN</td>\n",
       "      <td>Just got sent this photo from Ruby #Alaska as ...</td>\n",
       "      <td>1</td>\n",
       "    </tr>\n",
       "  </tbody>\n",
       "</table>\n",
       "</div>"
      ],
      "text/plain": [
       "   id keyword location                                               text  \\\n",
       "0   1     NaN      NaN  Our Deeds are the Reason of this #earthquake M...   \n",
       "1   4     NaN      NaN             Forest fire near La Ronge Sask. Canada   \n",
       "2   5     NaN      NaN  All residents asked to 'shelter in place' are ...   \n",
       "3   6     NaN      NaN  13,000 people receive #wildfires evacuation or...   \n",
       "4   7     NaN      NaN  Just got sent this photo from Ruby #Alaska as ...   \n",
       "\n",
       "   target  \n",
       "0       1  \n",
       "1       1  \n",
       "2       1  \n",
       "3       1  \n",
       "4       1  "
      ]
     },
     "execution_count": 3,
     "metadata": {},
     "output_type": "execute_result"
    }
   ],
   "source": [
    "#train data read\n",
    "df = pd.read_csv('/kaggle/input/nlp-getting-started/train.csv')\n",
    "df.head()"
   ]
  },
  {
   "cell_type": "code",
   "execution_count": 4,
   "id": "a0ea6406",
   "metadata": {
    "execution": {
     "iopub.execute_input": "2023-02-23T13:14:34.087582Z",
     "iopub.status.busy": "2023-02-23T13:14:34.087077Z",
     "iopub.status.idle": "2023-02-23T13:14:34.116258Z",
     "shell.execute_reply": "2023-02-23T13:14:34.115013Z"
    },
    "papermill": {
     "duration": 0.04407,
     "end_time": "2023-02-23T13:14:34.119131",
     "exception": false,
     "start_time": "2023-02-23T13:14:34.075061",
     "status": "completed"
    },
    "tags": []
   },
   "outputs": [
    {
     "name": "stdout",
     "output_type": "stream",
     "text": [
      "<class 'pandas.core.frame.DataFrame'>\n",
      "RangeIndex: 7613 entries, 0 to 7612\n",
      "Data columns (total 5 columns):\n",
      " #   Column    Non-Null Count  Dtype \n",
      "---  ------    --------------  ----- \n",
      " 0   id        7613 non-null   int64 \n",
      " 1   keyword   7552 non-null   object\n",
      " 2   location  5080 non-null   object\n",
      " 3   text      7613 non-null   object\n",
      " 4   target    7613 non-null   int64 \n",
      "dtypes: int64(2), object(3)\n",
      "memory usage: 297.5+ KB\n"
     ]
    }
   ],
   "source": [
    "df.info()"
   ]
  },
  {
   "cell_type": "code",
   "execution_count": 5,
   "id": "d5535c7e",
   "metadata": {
    "execution": {
     "iopub.execute_input": "2023-02-23T13:14:34.142590Z",
     "iopub.status.busy": "2023-02-23T13:14:34.141335Z",
     "iopub.status.idle": "2023-02-23T13:14:34.154312Z",
     "shell.execute_reply": "2023-02-23T13:14:34.153009Z"
    },
    "papermill": {
     "duration": 0.026789,
     "end_time": "2023-02-23T13:14:34.156860",
     "exception": false,
     "start_time": "2023-02-23T13:14:34.130071",
     "status": "completed"
    },
    "tags": []
   },
   "outputs": [
    {
     "data": {
      "text/html": [
       "<div>\n",
       "<style scoped>\n",
       "    .dataframe tbody tr th:only-of-type {\n",
       "        vertical-align: middle;\n",
       "    }\n",
       "\n",
       "    .dataframe tbody tr th {\n",
       "        vertical-align: top;\n",
       "    }\n",
       "\n",
       "    .dataframe thead th {\n",
       "        text-align: right;\n",
       "    }\n",
       "</style>\n",
       "<table border=\"1\" class=\"dataframe\">\n",
       "  <thead>\n",
       "    <tr style=\"text-align: right;\">\n",
       "      <th></th>\n",
       "      <th>text</th>\n",
       "      <th>target</th>\n",
       "    </tr>\n",
       "  </thead>\n",
       "  <tbody>\n",
       "    <tr>\n",
       "      <th>0</th>\n",
       "      <td>Our Deeds are the Reason of this #earthquake M...</td>\n",
       "      <td>1</td>\n",
       "    </tr>\n",
       "    <tr>\n",
       "      <th>1</th>\n",
       "      <td>Forest fire near La Ronge Sask. Canada</td>\n",
       "      <td>1</td>\n",
       "    </tr>\n",
       "    <tr>\n",
       "      <th>2</th>\n",
       "      <td>All residents asked to 'shelter in place' are ...</td>\n",
       "      <td>1</td>\n",
       "    </tr>\n",
       "    <tr>\n",
       "      <th>3</th>\n",
       "      <td>13,000 people receive #wildfires evacuation or...</td>\n",
       "      <td>1</td>\n",
       "    </tr>\n",
       "    <tr>\n",
       "      <th>4</th>\n",
       "      <td>Just got sent this photo from Ruby #Alaska as ...</td>\n",
       "      <td>1</td>\n",
       "    </tr>\n",
       "  </tbody>\n",
       "</table>\n",
       "</div>"
      ],
      "text/plain": [
       "                                                text  target\n",
       "0  Our Deeds are the Reason of this #earthquake M...       1\n",
       "1             Forest fire near La Ronge Sask. Canada       1\n",
       "2  All residents asked to 'shelter in place' are ...       1\n",
       "3  13,000 people receive #wildfires evacuation or...       1\n",
       "4  Just got sent this photo from Ruby #Alaska as ...       1"
      ]
     },
     "execution_count": 5,
     "metadata": {},
     "output_type": "execute_result"
    }
   ],
   "source": [
    "df_select = df[['text','target']]\n",
    "df_select.head()"
   ]
  },
  {
   "cell_type": "code",
   "execution_count": 6,
   "id": "5cad3f11",
   "metadata": {
    "execution": {
     "iopub.execute_input": "2023-02-23T13:14:34.179534Z",
     "iopub.status.busy": "2023-02-23T13:14:34.178685Z",
     "iopub.status.idle": "2023-02-23T13:14:34.191244Z",
     "shell.execute_reply": "2023-02-23T13:14:34.190099Z"
    },
    "papermill": {
     "duration": 0.026659,
     "end_time": "2023-02-23T13:14:34.193624",
     "exception": false,
     "start_time": "2023-02-23T13:14:34.166965",
     "status": "completed"
    },
    "tags": []
   },
   "outputs": [
    {
     "data": {
      "text/html": [
       "<div>\n",
       "<style scoped>\n",
       "    .dataframe tbody tr th:only-of-type {\n",
       "        vertical-align: middle;\n",
       "    }\n",
       "\n",
       "    .dataframe tbody tr th {\n",
       "        vertical-align: top;\n",
       "    }\n",
       "\n",
       "    .dataframe thead th {\n",
       "        text-align: right;\n",
       "    }\n",
       "</style>\n",
       "<table border=\"1\" class=\"dataframe\">\n",
       "  <thead>\n",
       "    <tr style=\"text-align: right;\">\n",
       "      <th></th>\n",
       "      <th>text</th>\n",
       "    </tr>\n",
       "    <tr>\n",
       "      <th>target</th>\n",
       "      <th></th>\n",
       "    </tr>\n",
       "  </thead>\n",
       "  <tbody>\n",
       "    <tr>\n",
       "      <th>0</th>\n",
       "      <td>4342</td>\n",
       "    </tr>\n",
       "    <tr>\n",
       "      <th>1</th>\n",
       "      <td>3271</td>\n",
       "    </tr>\n",
       "  </tbody>\n",
       "</table>\n",
       "</div>"
      ],
      "text/plain": [
       "        text\n",
       "target      \n",
       "0       4342\n",
       "1       3271"
      ]
     },
     "execution_count": 6,
     "metadata": {},
     "output_type": "execute_result"
    }
   ],
   "source": [
    "df_select.groupby('target').count()"
   ]
  },
  {
   "cell_type": "code",
   "execution_count": 7,
   "id": "f75f8071",
   "metadata": {
    "execution": {
     "iopub.execute_input": "2023-02-23T13:14:34.216863Z",
     "iopub.status.busy": "2023-02-23T13:14:34.216078Z",
     "iopub.status.idle": "2023-02-23T13:14:34.225004Z",
     "shell.execute_reply": "2023-02-23T13:14:34.223945Z"
    },
    "papermill": {
     "duration": 0.023179,
     "end_time": "2023-02-23T13:14:34.227399",
     "exception": false,
     "start_time": "2023-02-23T13:14:34.204220",
     "status": "completed"
    },
    "tags": []
   },
   "outputs": [
    {
     "data": {
      "text/plain": [
       "0    4342\n",
       "1    3271\n",
       "Name: target, dtype: int64"
      ]
     },
     "execution_count": 7,
     "metadata": {},
     "output_type": "execute_result"
    }
   ],
   "source": [
    "df_select['target'].value_counts()"
   ]
  },
  {
   "cell_type": "code",
   "execution_count": 8,
   "id": "162d315b",
   "metadata": {
    "execution": {
     "iopub.execute_input": "2023-02-23T13:14:34.251762Z",
     "iopub.status.busy": "2023-02-23T13:14:34.250849Z",
     "iopub.status.idle": "2023-02-23T13:14:34.535858Z",
     "shell.execute_reply": "2023-02-23T13:14:34.534609Z"
    },
    "papermill": {
     "duration": 0.300309,
     "end_time": "2023-02-23T13:14:34.538624",
     "exception": false,
     "start_time": "2023-02-23T13:14:34.238315",
     "status": "completed"
    },
    "tags": []
   },
   "outputs": [
    {
     "name": "stdout",
     "output_type": "stream",
     "text": [
      "Mean overview length:  101.03743596479706\n",
      "Min overview length:  7\n",
      "Max overview length:  157\n"
     ]
    },
    {
     "name": "stderr",
     "output_type": "stream",
     "text": [
      "/opt/conda/lib/python3.7/site-packages/ipykernel_launcher.py:1: SettingWithCopyWarning: \n",
      "A value is trying to be set on a copy of a slice from a DataFrame.\n",
      "Try using .loc[row_indexer,col_indexer] = value instead\n",
      "\n",
      "See the caveats in the documentation: https://pandas.pydata.org/pandas-docs/stable/user_guide/indexing.html#returning-a-view-versus-a-copy\n",
      "  \"\"\"Entry point for launching an IPython kernel.\n"
     ]
    },
    {
     "data": {
      "text/plain": [
       "<AxesSubplot:ylabel='Frequency'>"
      ]
     },
     "execution_count": 8,
     "metadata": {},
     "output_type": "execute_result"
    },
    {
     "data": {
      "image/png": "[encoded data removed]",
      "text/plain": [
       "<Figure size 432x288 with 1 Axes>"
      ]
     },
     "metadata": {
      "needs_background": "light"
     },
     "output_type": "display_data"
    }
   ],
   "source": [
    "df_select['overview_length'] = df_select.text.apply(len)\n",
    "print(\"Mean overview length: \", df_select['overview_length'].mean())\n",
    "print(\"Min overview length: \", df_select['overview_length'].min())\n",
    "print(\"Max overview length: \", df_select['overview_length'].max())\n",
    "df_select.overview_length.plot.hist()"
   ]
  },
  {
   "cell_type": "markdown",
   "id": "7fe44600",
   "metadata": {
    "papermill": {
     "duration": 0.010696,
     "end_time": "2023-02-23T13:14:34.560468",
     "exception": false,
     "start_time": "2023-02-23T13:14:34.549772",
     "status": "completed"
    },
    "tags": []
   },
   "source": [
    "Build Features From Text\n",
    "* CountVectorizer\n",
    "* TFIDF\n",
    "* WordEmbedding\n",
    "* HashingTF\n",
    "* etc"
   ]
  },
  {
   "cell_type": "markdown",
   "id": "1d1cf448",
   "metadata": {
    "papermill": {
     "duration": 0.010635,
     "end_time": "2023-02-23T13:14:34.582005",
     "exception": false,
     "start_time": "2023-02-23T13:14:34.571370",
     "status": "completed"
    },
    "tags": []
   },
   "source": [
    "Reference : \n",
    "1. https://www.nltk.org/api/nltk.tokenize.html\n",
    "2. https://scikit-learn.org/stable/modules/generated/sklearn.feature_extraction.text.CountVectorizer.html#\n",
    "3. https://towardsdatascience.com/generate-meaningful-word-clouds-in-python-5b85f5668eeb\n",
    "4. https://scikit-learn.org/stable/modules/generated/sklearn.naive_bayes.MultinomialNB.html\n"
   ]
  },
  {
   "cell_type": "code",
   "execution_count": 9,
   "id": "41170c5e",
   "metadata": {
    "execution": {
     "iopub.execute_input": "2023-02-23T13:14:34.605764Z",
     "iopub.status.busy": "2023-02-23T13:14:34.605333Z",
     "iopub.status.idle": "2023-02-23T13:14:36.262743Z",
     "shell.execute_reply": "2023-02-23T13:14:36.261018Z"
    },
    "papermill": {
     "duration": 1.673356,
     "end_time": "2023-02-23T13:14:36.266134",
     "exception": false,
     "start_time": "2023-02-23T13:14:34.592778",
     "status": "completed"
    },
    "tags": []
   },
   "outputs": [
    {
     "name": "stderr",
     "output_type": "stream",
     "text": [
      "/opt/conda/lib/python3.7/site-packages/ipykernel_launcher.py:3: SettingWithCopyWarning: \n",
      "A value is trying to be set on a copy of a slice from a DataFrame.\n",
      "Try using .loc[row_indexer,col_indexer] = value instead\n",
      "\n",
      "See the caveats in the documentation: https://pandas.pydata.org/pandas-docs/stable/user_guide/indexing.html#returning-a-view-versus-a-copy\n",
      "  This is separate from the ipykernel package so we can avoid doing imports until\n"
     ]
    },
    {
     "data": {
      "text/html": [
       "<div>\n",
       "<style scoped>\n",
       "    .dataframe tbody tr th:only-of-type {\n",
       "        vertical-align: middle;\n",
       "    }\n",
       "\n",
       "    .dataframe tbody tr th {\n",
       "        vertical-align: top;\n",
       "    }\n",
       "\n",
       "    .dataframe thead th {\n",
       "        text-align: right;\n",
       "    }\n",
       "</style>\n",
       "<table border=\"1\" class=\"dataframe\">\n",
       "  <thead>\n",
       "    <tr style=\"text-align: right;\">\n",
       "      <th></th>\n",
       "      <th>text</th>\n",
       "      <th>target</th>\n",
       "      <th>overview_length</th>\n",
       "      <th>Tokenized</th>\n",
       "    </tr>\n",
       "  </thead>\n",
       "  <tbody>\n",
       "    <tr>\n",
       "      <th>0</th>\n",
       "      <td>Our Deeds are the Reason of this #earthquake M...</td>\n",
       "      <td>1</td>\n",
       "      <td>69</td>\n",
       "      <td>[Our, Deeds, are, the, Reason, of, this, #, ea...</td>\n",
       "    </tr>\n",
       "    <tr>\n",
       "      <th>1</th>\n",
       "      <td>Forest fire near La Ronge Sask. Canada</td>\n",
       "      <td>1</td>\n",
       "      <td>38</td>\n",
       "      <td>[Forest, fire, near, La, Ronge, Sask, ., Canada]</td>\n",
       "    </tr>\n",
       "    <tr>\n",
       "      <th>2</th>\n",
       "      <td>All residents asked to 'shelter in place' are ...</td>\n",
       "      <td>1</td>\n",
       "      <td>133</td>\n",
       "      <td>[All, residents, asked, to, 'shelter, in, plac...</td>\n",
       "    </tr>\n",
       "    <tr>\n",
       "      <th>3</th>\n",
       "      <td>13,000 people receive #wildfires evacuation or...</td>\n",
       "      <td>1</td>\n",
       "      <td>65</td>\n",
       "      <td>[13,000, people, receive, #, wildfires, evacua...</td>\n",
       "    </tr>\n",
       "    <tr>\n",
       "      <th>4</th>\n",
       "      <td>Just got sent this photo from Ruby #Alaska as ...</td>\n",
       "      <td>1</td>\n",
       "      <td>88</td>\n",
       "      <td>[Just, got, sent, this, photo, from, Ruby, #, ...</td>\n",
       "    </tr>\n",
       "  </tbody>\n",
       "</table>\n",
       "</div>"
      ],
      "text/plain": [
       "                                                text  target  overview_length  \\\n",
       "0  Our Deeds are the Reason of this #earthquake M...       1               69   \n",
       "1             Forest fire near La Ronge Sask. Canada       1               38   \n",
       "2  All residents asked to 'shelter in place' are ...       1              133   \n",
       "3  13,000 people receive #wildfires evacuation or...       1               65   \n",
       "4  Just got sent this photo from Ruby #Alaska as ...       1               88   \n",
       "\n",
       "                                           Tokenized  \n",
       "0  [Our, Deeds, are, the, Reason, of, this, #, ea...  \n",
       "1   [Forest, fire, near, La, Ronge, Sask, ., Canada]  \n",
       "2  [All, residents, asked, to, 'shelter, in, plac...  \n",
       "3  [13,000, people, receive, #, wildfires, evacua...  \n",
       "4  [Just, got, sent, this, photo, from, Ruby, #, ...  "
      ]
     },
     "execution_count": 9,
     "metadata": {},
     "output_type": "execute_result"
    }
   ],
   "source": [
    "# for stopwords removal : vectorizer = CountVectorizer(stop_words='english')\n",
    "\n",
    "df_select['Tokenized'] = df_select['text'].apply(lambda x : word_tokenize(x))\n",
    "df_select.head()\n"
   ]
  },
  {
   "cell_type": "code",
   "execution_count": 10,
   "id": "899f19b6",
   "metadata": {
    "execution": {
     "iopub.execute_input": "2023-02-23T13:14:36.290721Z",
     "iopub.status.busy": "2023-02-23T13:14:36.290303Z",
     "iopub.status.idle": "2023-02-23T13:14:36.298348Z",
     "shell.execute_reply": "2023-02-23T13:14:36.297197Z"
    },
    "papermill": {
     "duration": 0.023431,
     "end_time": "2023-02-23T13:14:36.300809",
     "exception": false,
     "start_time": "2023-02-23T13:14:36.277378",
     "status": "completed"
    },
    "tags": []
   },
   "outputs": [
    {
     "data": {
      "text/plain": [
       "['Our',\n",
       " 'Deeds',\n",
       " 'are',\n",
       " 'the',\n",
       " 'Reason',\n",
       " 'of',\n",
       " 'this',\n",
       " '#',\n",
       " 'earthquake',\n",
       " 'May',\n",
       " 'ALLAH',\n",
       " 'Forgive',\n",
       " 'us',\n",
       " 'all']"
      ]
     },
     "execution_count": 10,
     "metadata": {},
     "output_type": "execute_result"
    }
   ],
   "source": [
    "df_select['Tokenized'][0]"
   ]
  },
  {
   "cell_type": "code",
   "execution_count": 11,
   "id": "9e17a675",
   "metadata": {
    "execution": {
     "iopub.execute_input": "2023-02-23T13:14:36.325555Z",
     "iopub.status.busy": "2023-02-23T13:14:36.325143Z",
     "iopub.status.idle": "2023-02-23T13:14:36.329463Z",
     "shell.execute_reply": "2023-02-23T13:14:36.328586Z"
    },
    "papermill": {
     "duration": 0.019302,
     "end_time": "2023-02-23T13:14:36.331498",
     "exception": false,
     "start_time": "2023-02-23T13:14:36.312196",
     "status": "completed"
    },
    "tags": []
   },
   "outputs": [],
   "source": [
    "\n",
    "## Remove non english characters\n",
    "exclude = set(string.punctuation)\n",
    "#exclude\n"
   ]
  },
  {
   "cell_type": "code",
   "execution_count": 12,
   "id": "af19d93c",
   "metadata": {
    "execution": {
     "iopub.execute_input": "2023-02-23T13:14:36.355702Z",
     "iopub.status.busy": "2023-02-23T13:14:36.355232Z",
     "iopub.status.idle": "2023-02-23T13:14:36.360809Z",
     "shell.execute_reply": "2023-02-23T13:14:36.359584Z"
    },
    "papermill": {
     "duration": 0.020699,
     "end_time": "2023-02-23T13:14:36.363376",
     "exception": false,
     "start_time": "2023-02-23T13:14:36.342677",
     "status": "completed"
    },
    "tags": []
   },
   "outputs": [],
   "source": [
    "def remove_punct(row):\n",
    "    row = \" \".join(x for x in row if x not in exclude)\n",
    "    return row"
   ]
  },
  {
   "cell_type": "code",
   "execution_count": 13,
   "id": "9b098380",
   "metadata": {
    "execution": {
     "iopub.execute_input": "2023-02-23T13:14:36.388912Z",
     "iopub.status.busy": "2023-02-23T13:14:36.388471Z",
     "iopub.status.idle": "2023-02-23T13:14:36.438694Z",
     "shell.execute_reply": "2023-02-23T13:14:36.437805Z"
    },
    "papermill": {
     "duration": 0.066314,
     "end_time": "2023-02-23T13:14:36.441119",
     "exception": false,
     "start_time": "2023-02-23T13:14:36.374805",
     "status": "completed"
    },
    "tags": []
   },
   "outputs": [
    {
     "data": {
      "text/html": [
       "<div>\n",
       "<style scoped>\n",
       "    .dataframe tbody tr th:only-of-type {\n",
       "        vertical-align: middle;\n",
       "    }\n",
       "\n",
       "    .dataframe tbody tr th {\n",
       "        vertical-align: top;\n",
       "    }\n",
       "\n",
       "    .dataframe thead th {\n",
       "        text-align: right;\n",
       "    }\n",
       "</style>\n",
       "<table border=\"1\" class=\"dataframe\">\n",
       "  <thead>\n",
       "    <tr style=\"text-align: right;\">\n",
       "      <th></th>\n",
       "      <th>text</th>\n",
       "      <th>target</th>\n",
       "      <th>overview_length</th>\n",
       "      <th>Tokenized</th>\n",
       "      <th>Removed_punct</th>\n",
       "    </tr>\n",
       "  </thead>\n",
       "  <tbody>\n",
       "    <tr>\n",
       "      <th>0</th>\n",
       "      <td>Our Deeds are the Reason of this #earthquake M...</td>\n",
       "      <td>1</td>\n",
       "      <td>69</td>\n",
       "      <td>[Our, Deeds, are, the, Reason, of, this, #, ea...</td>\n",
       "      <td>Our Deeds are the Reason of this earthquake Ma...</td>\n",
       "    </tr>\n",
       "    <tr>\n",
       "      <th>1</th>\n",
       "      <td>Forest fire near La Ronge Sask. Canada</td>\n",
       "      <td>1</td>\n",
       "      <td>38</td>\n",
       "      <td>[Forest, fire, near, La, Ronge, Sask, ., Canada]</td>\n",
       "      <td>Forest fire near La Ronge Sask Canada</td>\n",
       "    </tr>\n",
       "    <tr>\n",
       "      <th>2</th>\n",
       "      <td>All residents asked to 'shelter in place' are ...</td>\n",
       "      <td>1</td>\n",
       "      <td>133</td>\n",
       "      <td>[All, residents, asked, to, 'shelter, in, plac...</td>\n",
       "      <td>All residents asked to 'shelter in place are b...</td>\n",
       "    </tr>\n",
       "    <tr>\n",
       "      <th>3</th>\n",
       "      <td>13,000 people receive #wildfires evacuation or...</td>\n",
       "      <td>1</td>\n",
       "      <td>65</td>\n",
       "      <td>[13,000, people, receive, #, wildfires, evacua...</td>\n",
       "      <td>13,000 people receive wildfires evacuation ord...</td>\n",
       "    </tr>\n",
       "    <tr>\n",
       "      <th>4</th>\n",
       "      <td>Just got sent this photo from Ruby #Alaska as ...</td>\n",
       "      <td>1</td>\n",
       "      <td>88</td>\n",
       "      <td>[Just, got, sent, this, photo, from, Ruby, #, ...</td>\n",
       "      <td>Just got sent this photo from Ruby Alaska as s...</td>\n",
       "    </tr>\n",
       "  </tbody>\n",
       "</table>\n",
       "</div>"
      ],
      "text/plain": [
       "                                                text  target  overview_length  \\\n",
       "0  Our Deeds are the Reason of this #earthquake M...       1               69   \n",
       "1             Forest fire near La Ronge Sask. Canada       1               38   \n",
       "2  All residents asked to 'shelter in place' are ...       1              133   \n",
       "3  13,000 people receive #wildfires evacuation or...       1               65   \n",
       "4  Just got sent this photo from Ruby #Alaska as ...       1               88   \n",
       "\n",
       "                                           Tokenized  \\\n",
       "0  [Our, Deeds, are, the, Reason, of, this, #, ea...   \n",
       "1   [Forest, fire, near, La, Ronge, Sask, ., Canada]   \n",
       "2  [All, residents, asked, to, 'shelter, in, plac...   \n",
       "3  [13,000, people, receive, #, wildfires, evacua...   \n",
       "4  [Just, got, sent, this, photo, from, Ruby, #, ...   \n",
       "\n",
       "                                       Removed_punct  \n",
       "0  Our Deeds are the Reason of this earthquake Ma...  \n",
       "1              Forest fire near La Ronge Sask Canada  \n",
       "2  All residents asked to 'shelter in place are b...  \n",
       "3  13,000 people receive wildfires evacuation ord...  \n",
       "4  Just got sent this photo from Ruby Alaska as s...  "
      ]
     },
     "execution_count": 13,
     "metadata": {},
     "output_type": "execute_result"
    }
   ],
   "source": [
    "df_select['Removed_punct'] = df_select['Tokenized'].apply(remove_punct)\n",
    "df_select.head()"
   ]
  },
  {
   "cell_type": "code",
   "execution_count": 14,
   "id": "d4eeea87",
   "metadata": {
    "execution": {
     "iopub.execute_input": "2023-02-23T13:14:36.466537Z",
     "iopub.status.busy": "2023-02-23T13:14:36.465658Z",
     "iopub.status.idle": "2023-02-23T13:14:36.473382Z",
     "shell.execute_reply": "2023-02-23T13:14:36.472272Z"
    },
    "papermill": {
     "duration": 0.023316,
     "end_time": "2023-02-23T13:14:36.476053",
     "exception": false,
     "start_time": "2023-02-23T13:14:36.452737",
     "status": "completed"
    },
    "tags": []
   },
   "outputs": [
    {
     "data": {
      "text/plain": [
       "'Our Deeds are the Reason of this earthquake May ALLAH Forgive us all'"
      ]
     },
     "execution_count": 14,
     "metadata": {},
     "output_type": "execute_result"
    }
   ],
   "source": [
    "df_select['Removed_punct'][0]"
   ]
  },
  {
   "cell_type": "code",
   "execution_count": 15,
   "id": "9356b698",
   "metadata": {
    "execution": {
     "iopub.execute_input": "2023-02-23T13:14:36.501366Z",
     "iopub.status.busy": "2023-02-23T13:14:36.500965Z",
     "iopub.status.idle": "2023-02-23T13:14:36.507272Z",
     "shell.execute_reply": "2023-02-23T13:14:36.506114Z"
    },
    "papermill": {
     "duration": 0.021684,
     "end_time": "2023-02-23T13:14:36.509529",
     "exception": false,
     "start_time": "2023-02-23T13:14:36.487845",
     "status": "completed"
    },
    "tags": []
   },
   "outputs": [],
   "source": [
    "## Remove numbers\n",
    "\n",
    "def clean_text(text):\n",
    "    # remove numbers\n",
    "    text_nonum = re.sub(r'\\d+', '', text)\n",
    "    # remove punctuations and convert characters to lower case\n",
    "    text_nopunct = \"\".join([char.lower() for char in text_nonum if char not in string.punctuation]) \n",
    "    # substitute multiple whitespace with single whitespace\n",
    "    # Also, removes leading and trailing whitespaces\n",
    "    text_no_doublespace = re.sub('\\s+', ' ', text_nopunct).strip()\n",
    "    return text_no_doublespace\n"
   ]
  },
  {
   "cell_type": "code",
   "execution_count": 16,
   "id": "9ffcafc7",
   "metadata": {
    "execution": {
     "iopub.execute_input": "2023-02-23T13:14:36.535393Z",
     "iopub.status.busy": "2023-02-23T13:14:36.534578Z",
     "iopub.status.idle": "2023-02-23T13:14:36.793406Z",
     "shell.execute_reply": "2023-02-23T13:14:36.792304Z"
    },
    "papermill": {
     "duration": 0.274817,
     "end_time": "2023-02-23T13:14:36.796347",
     "exception": false,
     "start_time": "2023-02-23T13:14:36.521530",
     "status": "completed"
    },
    "tags": []
   },
   "outputs": [
    {
     "data": {
      "text/html": [
       "<div>\n",
       "<style scoped>\n",
       "    .dataframe tbody tr th:only-of-type {\n",
       "        vertical-align: middle;\n",
       "    }\n",
       "\n",
       "    .dataframe tbody tr th {\n",
       "        vertical-align: top;\n",
       "    }\n",
       "\n",
       "    .dataframe thead th {\n",
       "        text-align: right;\n",
       "    }\n",
       "</style>\n",
       "<table border=\"1\" class=\"dataframe\">\n",
       "  <thead>\n",
       "    <tr style=\"text-align: right;\">\n",
       "      <th></th>\n",
       "      <th>text</th>\n",
       "      <th>target</th>\n",
       "      <th>overview_length</th>\n",
       "      <th>Tokenized</th>\n",
       "      <th>Removed_punct</th>\n",
       "      <th>No_numbers</th>\n",
       "    </tr>\n",
       "  </thead>\n",
       "  <tbody>\n",
       "    <tr>\n",
       "      <th>0</th>\n",
       "      <td>Our Deeds are the Reason of this #earthquake M...</td>\n",
       "      <td>1</td>\n",
       "      <td>69</td>\n",
       "      <td>[Our, Deeds, are, the, Reason, of, this, #, ea...</td>\n",
       "      <td>Our Deeds are the Reason of this earthquake Ma...</td>\n",
       "      <td>our deeds are the reason of this earthquake ma...</td>\n",
       "    </tr>\n",
       "    <tr>\n",
       "      <th>1</th>\n",
       "      <td>Forest fire near La Ronge Sask. Canada</td>\n",
       "      <td>1</td>\n",
       "      <td>38</td>\n",
       "      <td>[Forest, fire, near, La, Ronge, Sask, ., Canada]</td>\n",
       "      <td>Forest fire near La Ronge Sask Canada</td>\n",
       "      <td>forest fire near la ronge sask canada</td>\n",
       "    </tr>\n",
       "    <tr>\n",
       "      <th>2</th>\n",
       "      <td>All residents asked to 'shelter in place' are ...</td>\n",
       "      <td>1</td>\n",
       "      <td>133</td>\n",
       "      <td>[All, residents, asked, to, 'shelter, in, plac...</td>\n",
       "      <td>All residents asked to 'shelter in place are b...</td>\n",
       "      <td>all residents asked to shelter in place are be...</td>\n",
       "    </tr>\n",
       "    <tr>\n",
       "      <th>3</th>\n",
       "      <td>13,000 people receive #wildfires evacuation or...</td>\n",
       "      <td>1</td>\n",
       "      <td>65</td>\n",
       "      <td>[13,000, people, receive, #, wildfires, evacua...</td>\n",
       "      <td>13,000 people receive wildfires evacuation ord...</td>\n",
       "      <td>people receive wildfires evacuation orders in ...</td>\n",
       "    </tr>\n",
       "    <tr>\n",
       "      <th>4</th>\n",
       "      <td>Just got sent this photo from Ruby #Alaska as ...</td>\n",
       "      <td>1</td>\n",
       "      <td>88</td>\n",
       "      <td>[Just, got, sent, this, photo, from, Ruby, #, ...</td>\n",
       "      <td>Just got sent this photo from Ruby Alaska as s...</td>\n",
       "      <td>just got sent this photo from ruby alaska as s...</td>\n",
       "    </tr>\n",
       "  </tbody>\n",
       "</table>\n",
       "</div>"
      ],
      "text/plain": [
       "                                                text  target  overview_length  \\\n",
       "0  Our Deeds are the Reason of this #earthquake M...       1               69   \n",
       "1             Forest fire near La Ronge Sask. Canada       1               38   \n",
       "2  All residents asked to 'shelter in place' are ...       1              133   \n",
       "3  13,000 people receive #wildfires evacuation or...       1               65   \n",
       "4  Just got sent this photo from Ruby #Alaska as ...       1               88   \n",
       "\n",
       "                                           Tokenized  \\\n",
       "0  [Our, Deeds, are, the, Reason, of, this, #, ea...   \n",
       "1   [Forest, fire, near, La, Ronge, Sask, ., Canada]   \n",
       "2  [All, residents, asked, to, 'shelter, in, plac...   \n",
       "3  [13,000, people, receive, #, wildfires, evacua...   \n",
       "4  [Just, got, sent, this, photo, from, Ruby, #, ...   \n",
       "\n",
       "                                       Removed_punct  \\\n",
       "0  Our Deeds are the Reason of this earthquake Ma...   \n",
       "1              Forest fire near La Ronge Sask Canada   \n",
       "2  All residents asked to 'shelter in place are b...   \n",
       "3  13,000 people receive wildfires evacuation ord...   \n",
       "4  Just got sent this photo from Ruby Alaska as s...   \n",
       "\n",
       "                                          No_numbers  \n",
       "0  our deeds are the reason of this earthquake ma...  \n",
       "1              forest fire near la ronge sask canada  \n",
       "2  all residents asked to shelter in place are be...  \n",
       "3  people receive wildfires evacuation orders in ...  \n",
       "4  just got sent this photo from ruby alaska as s...  "
      ]
     },
     "execution_count": 16,
     "metadata": {},
     "output_type": "execute_result"
    }
   ],
   "source": [
    "df_select['No_numbers']= df_select['Removed_punct'].apply(clean_text)\n",
    "df_select.head()"
   ]
  },
  {
   "cell_type": "code",
   "execution_count": 17,
   "id": "4394e594",
   "metadata": {
    "execution": {
     "iopub.execute_input": "2023-02-23T13:14:36.822279Z",
     "iopub.status.busy": "2023-02-23T13:14:36.821786Z",
     "iopub.status.idle": "2023-02-23T13:14:36.828169Z",
     "shell.execute_reply": "2023-02-23T13:14:36.826869Z"
    },
    "papermill": {
     "duration": 0.022317,
     "end_time": "2023-02-23T13:14:36.830785",
     "exception": false,
     "start_time": "2023-02-23T13:14:36.808468",
     "status": "completed"
    },
    "tags": []
   },
   "outputs": [],
   "source": [
    "#Lemmatization\n",
    "\n",
    "\n",
    "lemmatizer = WordNetLemmatizer()\n",
    "def lemm_text(row):\n",
    "    row = \" \".join(lemmatizer.lemmatize(x) for x in row.split())\n",
    "    return row"
   ]
  },
  {
   "cell_type": "code",
   "execution_count": 18,
   "id": "1968b443",
   "metadata": {
    "execution": {
     "iopub.execute_input": "2023-02-23T13:14:36.857092Z",
     "iopub.status.busy": "2023-02-23T13:14:36.856691Z",
     "iopub.status.idle": "2023-02-23T13:14:39.386342Z",
     "shell.execute_reply": "2023-02-23T13:14:39.384849Z"
    },
    "papermill": {
     "duration": 2.546129,
     "end_time": "2023-02-23T13:14:39.389177",
     "exception": false,
     "start_time": "2023-02-23T13:14:36.843048",
     "status": "completed"
    },
    "tags": []
   },
   "outputs": [
    {
     "data": {
      "text/html": [
       "<div>\n",
       "<style scoped>\n",
       "    .dataframe tbody tr th:only-of-type {\n",
       "        vertical-align: middle;\n",
       "    }\n",
       "\n",
       "    .dataframe tbody tr th {\n",
       "        vertical-align: top;\n",
       "    }\n",
       "\n",
       "    .dataframe thead th {\n",
       "        text-align: right;\n",
       "    }\n",
       "</style>\n",
       "<table border=\"1\" class=\"dataframe\">\n",
       "  <thead>\n",
       "    <tr style=\"text-align: right;\">\n",
       "      <th></th>\n",
       "      <th>text</th>\n",
       "      <th>target</th>\n",
       "      <th>overview_length</th>\n",
       "      <th>Tokenized</th>\n",
       "      <th>Removed_punct</th>\n",
       "      <th>No_numbers</th>\n",
       "      <th>lem text</th>\n",
       "    </tr>\n",
       "  </thead>\n",
       "  <tbody>\n",
       "    <tr>\n",
       "      <th>0</th>\n",
       "      <td>Our Deeds are the Reason of this #earthquake M...</td>\n",
       "      <td>1</td>\n",
       "      <td>69</td>\n",
       "      <td>[Our, Deeds, are, the, Reason, of, this, #, ea...</td>\n",
       "      <td>Our Deeds are the Reason of this earthquake Ma...</td>\n",
       "      <td>our deeds are the reason of this earthquake ma...</td>\n",
       "      <td>our deed are the reason of this earthquake may...</td>\n",
       "    </tr>\n",
       "    <tr>\n",
       "      <th>1</th>\n",
       "      <td>Forest fire near La Ronge Sask. Canada</td>\n",
       "      <td>1</td>\n",
       "      <td>38</td>\n",
       "      <td>[Forest, fire, near, La, Ronge, Sask, ., Canada]</td>\n",
       "      <td>Forest fire near La Ronge Sask Canada</td>\n",
       "      <td>forest fire near la ronge sask canada</td>\n",
       "      <td>forest fire near la ronge sask canada</td>\n",
       "    </tr>\n",
       "    <tr>\n",
       "      <th>2</th>\n",
       "      <td>All residents asked to 'shelter in place' are ...</td>\n",
       "      <td>1</td>\n",
       "      <td>133</td>\n",
       "      <td>[All, residents, asked, to, 'shelter, in, plac...</td>\n",
       "      <td>All residents asked to 'shelter in place are b...</td>\n",
       "      <td>all residents asked to shelter in place are be...</td>\n",
       "      <td>all resident asked to shelter in place are bei...</td>\n",
       "    </tr>\n",
       "    <tr>\n",
       "      <th>3</th>\n",
       "      <td>13,000 people receive #wildfires evacuation or...</td>\n",
       "      <td>1</td>\n",
       "      <td>65</td>\n",
       "      <td>[13,000, people, receive, #, wildfires, evacua...</td>\n",
       "      <td>13,000 people receive wildfires evacuation ord...</td>\n",
       "      <td>people receive wildfires evacuation orders in ...</td>\n",
       "      <td>people receive wildfire evacuation order in ca...</td>\n",
       "    </tr>\n",
       "    <tr>\n",
       "      <th>4</th>\n",
       "      <td>Just got sent this photo from Ruby #Alaska as ...</td>\n",
       "      <td>1</td>\n",
       "      <td>88</td>\n",
       "      <td>[Just, got, sent, this, photo, from, Ruby, #, ...</td>\n",
       "      <td>Just got sent this photo from Ruby Alaska as s...</td>\n",
       "      <td>just got sent this photo from ruby alaska as s...</td>\n",
       "      <td>just got sent this photo from ruby alaska a sm...</td>\n",
       "    </tr>\n",
       "  </tbody>\n",
       "</table>\n",
       "</div>"
      ],
      "text/plain": [
       "                                                text  target  overview_length  \\\n",
       "0  Our Deeds are the Reason of this #earthquake M...       1               69   \n",
       "1             Forest fire near La Ronge Sask. Canada       1               38   \n",
       "2  All residents asked to 'shelter in place' are ...       1              133   \n",
       "3  13,000 people receive #wildfires evacuation or...       1               65   \n",
       "4  Just got sent this photo from Ruby #Alaska as ...       1               88   \n",
       "\n",
       "                                           Tokenized  \\\n",
       "0  [Our, Deeds, are, the, Reason, of, this, #, ea...   \n",
       "1   [Forest, fire, near, La, Ronge, Sask, ., Canada]   \n",
       "2  [All, residents, asked, to, 'shelter, in, plac...   \n",
       "3  [13,000, people, receive, #, wildfires, evacua...   \n",
       "4  [Just, got, sent, this, photo, from, Ruby, #, ...   \n",
       "\n",
       "                                       Removed_punct  \\\n",
       "0  Our Deeds are the Reason of this earthquake Ma...   \n",
       "1              Forest fire near La Ronge Sask Canada   \n",
       "2  All residents asked to 'shelter in place are b...   \n",
       "3  13,000 people receive wildfires evacuation ord...   \n",
       "4  Just got sent this photo from Ruby Alaska as s...   \n",
       "\n",
       "                                          No_numbers  \\\n",
       "0  our deeds are the reason of this earthquake ma...   \n",
       "1              forest fire near la ronge sask canada   \n",
       "2  all residents asked to shelter in place are be...   \n",
       "3  people receive wildfires evacuation orders in ...   \n",
       "4  just got sent this photo from ruby alaska as s...   \n",
       "\n",
       "                                            lem text  \n",
       "0  our deed are the reason of this earthquake may...  \n",
       "1              forest fire near la ronge sask canada  \n",
       "2  all resident asked to shelter in place are bei...  \n",
       "3  people receive wildfire evacuation order in ca...  \n",
       "4  just got sent this photo from ruby alaska a sm...  "
      ]
     },
     "execution_count": 18,
     "metadata": {},
     "output_type": "execute_result"
    }
   ],
   "source": [
    "df_select['lem text'] = df_select['No_numbers'].apply(lemm_text)\n",
    "df_select.head()"
   ]
  },
  {
   "cell_type": "code",
   "execution_count": 19,
   "id": "a5c45616",
   "metadata": {
    "execution": {
     "iopub.execute_input": "2023-02-23T13:14:39.415687Z",
     "iopub.status.busy": "2023-02-23T13:14:39.415238Z",
     "iopub.status.idle": "2023-02-23T13:14:39.428306Z",
     "shell.execute_reply": "2023-02-23T13:14:39.427037Z"
    },
    "papermill": {
     "duration": 0.029636,
     "end_time": "2023-02-23T13:14:39.431249",
     "exception": false,
     "start_time": "2023-02-23T13:14:39.401613",
     "status": "completed"
    },
    "tags": []
   },
   "outputs": [],
   "source": [
    "# A list of contractions from http://stackoverflow.com/questions/19790188/expanding-english-language-contractions-in-python\n",
    "contractions = { \n",
    "\"ain't\": \"am not\",\n",
    "\"aren't\": \"are not\",\n",
    "\"can't\": \"cannot\",\n",
    "\"can't've\": \"cannot have\",\n",
    "\"'cause\": \"because\",\n",
    "\"could've\": \"could have\",\n",
    "\"couldn't\": \"could not\",\n",
    "\"couldn't've\": \"could not have\",\n",
    "\"didn't\": \"did not\",\n",
    "\"doesn't\": \"does not\",\n",
    "\"don't\": \"do not\",\n",
    "\"hadn't\": \"had not\",\n",
    "\"hadn't've\": \"had not have\",\n",
    "\"hasn't\": \"has not\",\n",
    "\"haven't\": \"have not\",\n",
    "\"he'd\": \"he would\",\n",
    "\"he'd've\": \"he would have\",\n",
    "\"he'll\": \"he will\",\n",
    "\"he's\": \"he is\",\n",
    "\"how'd\": \"how did\",\n",
    "\"how'll\": \"how will\",\n",
    "\"how's\": \"how is\",\n",
    "\"i'd\": \"i would\",\n",
    "\"i'll\": \"i will\",\n",
    "\"i'm\": \"i am\",\n",
    "\"i've\": \"i have\",\n",
    "\"isn't\": \"is not\",\n",
    "\"it'd\": \"it would\",\n",
    "\"it'll\": \"it will\",\n",
    "\"it's\": \"it is\",\n",
    "\"let's\": \"let us\",\n",
    "\"ma'am\": \"madam\",\n",
    "\"mayn't\": \"may not\",\n",
    "\"might've\": \"might have\",\n",
    "\"mightn't\": \"might not\",\n",
    "\"must've\": \"must have\",\n",
    "\"mustn't\": \"must not\",\n",
    "\"needn't\": \"need not\",\n",
    "\"oughtn't\": \"ought not\",\n",
    "\"shan't\": \"shall not\",\n",
    "\"sha'n't\": \"shall not\",\n",
    "\"she'd\": \"she would\",\n",
    "\"she'll\": \"she will\",\n",
    "\"she's\": \"she is\",\n",
    "\"should've\": \"should have\",\n",
    "\"shouldn't\": \"should not\",\n",
    "\"that'd\": \"that would\",\n",
    "\"that's\": \"that is\",\n",
    "\"there'd\": \"there had\",\n",
    "\"there's\": \"there is\",\n",
    "\"they'd\": \"they would\",\n",
    "\"they'll\": \"they will\",\n",
    "\"they're\": \"they are\",\n",
    "\"they've\": \"they have\",\n",
    "\"wasn't\": \"was not\",\n",
    "\"we'd\": \"we would\",\n",
    "\"we'll\": \"we will\",\n",
    "\"we're\": \"we are\",\n",
    "\"we've\": \"we have\",\n",
    "\"weren't\": \"were not\",\n",
    "\"what'll\": \"what will\",\n",
    "\"what're\": \"what are\",\n",
    "\"what's\": \"what is\",\n",
    "\"what've\": \"what have\",\n",
    "\"where'd\": \"where did\",\n",
    "\"where's\": \"where is\",\n",
    "\"who'll\": \"who will\",\n",
    "\"who's\": \"who is\",\n",
    "\"won't\": \"will not\",\n",
    "\"wouldn't\": \"would not\",\n",
    "\"you'd\": \"you would\",\n",
    "\"you'll\": \"you will\",\n",
    "\"you're\": \"you are\"\n",
    "}"
   ]
  },
  {
   "cell_type": "code",
   "execution_count": 20,
   "id": "d32167b9",
   "metadata": {
    "execution": {
     "iopub.execute_input": "2023-02-23T13:14:39.459542Z",
     "iopub.status.busy": "2023-02-23T13:14:39.459102Z",
     "iopub.status.idle": "2023-02-23T13:14:39.466697Z",
     "shell.execute_reply": "2023-02-23T13:14:39.465592Z"
    },
    "papermill": {
     "duration": 0.024532,
     "end_time": "2023-02-23T13:14:39.469166",
     "exception": false,
     "start_time": "2023-02-23T13:14:39.444634",
     "status": "completed"
    },
    "tags": []
   },
   "outputs": [
    {
     "data": {
      "text/plain": [
       "'\\n    if True:\\n        text = text.split()\\n        new_text = []\\n        for word in text:\\n            if word in contractions:\\n                new_text.append(contractions[word])\\n            else:\\n                new_text.append(word)\\n        text = \" \".join(new_text)\\n '"
      ]
     },
     "execution_count": 20,
     "metadata": {},
     "output_type": "execute_result"
    }
   ],
   "source": [
    "'''\n",
    "    if True:\n",
    "        text = text.split()\n",
    "        new_text = []\n",
    "        for word in text:\n",
    "            if word in contractions:\n",
    "                new_text.append(contractions[word])\n",
    "            else:\n",
    "                new_text.append(word)\n",
    "        text = \" \".join(new_text)\n",
    " '''       "
   ]
  },
  {
   "cell_type": "code",
   "execution_count": 21,
   "id": "810c6e62",
   "metadata": {
    "execution": {
     "iopub.execute_input": "2023-02-23T13:14:39.496483Z",
     "iopub.status.busy": "2023-02-23T13:14:39.495343Z",
     "iopub.status.idle": "2023-02-23T13:14:39.503950Z",
     "shell.execute_reply": "2023-02-23T13:14:39.502901Z"
    },
    "papermill": {
     "duration": 0.025093,
     "end_time": "2023-02-23T13:14:39.506692",
     "exception": false,
     "start_time": "2023-02-23T13:14:39.481599",
     "status": "completed"
    },
    "tags": []
   },
   "outputs": [],
   "source": [
    "\n",
    "# Expand contractions\n",
    "def clean_text(text):\n",
    "\n",
    "    # Format words and remove unwanted characters\n",
    "    text = re.sub(r'https?:\\/\\/.*[\\r\\n]*', '', text, flags=re.MULTILINE)\n",
    "    text = re.sub(r'\\<a href', ' ', text)\n",
    "    text = re.sub(r'&amp;', '', text) \n",
    "    text = re.sub(r'[_\"\\-;%()|+&=*%.,!?:#$@\\[\\]/]', ' ', text)\n",
    "    text = re.sub(r'<br />', ' ', text)\n",
    "    text = re.sub(r'\\'', ' ', text)\n",
    "    text = re.sub(r'[^\\x00-\\x7F]+','', text)\n",
    "    #Remove numbers\n",
    "    text = re.sub(r'\\d+', '', text)\n",
    "    #Remove stop words\n",
    "    pat = r'\\b(?:{})\\b'.format('|'.join(stop))\n",
    "    text = text.replace(pat, '')\n",
    "    text = text.replace(r'\\s+', ' ')\n",
    "    return text.lower()\n",
    "    #return text"
   ]
  },
  {
   "cell_type": "code",
   "execution_count": 22,
   "id": "96e3f98a",
   "metadata": {
    "execution": {
     "iopub.execute_input": "2023-02-23T13:14:39.533697Z",
     "iopub.status.busy": "2023-02-23T13:14:39.533269Z",
     "iopub.status.idle": "2023-02-23T13:14:39.702755Z",
     "shell.execute_reply": "2023-02-23T13:14:39.701564Z"
    },
    "papermill": {
     "duration": 0.185949,
     "end_time": "2023-02-23T13:14:39.705430",
     "exception": false,
     "start_time": "2023-02-23T13:14:39.519481",
     "status": "completed"
    },
    "tags": []
   },
   "outputs": [
    {
     "data": {
      "text/html": [
       "<div>\n",
       "<style scoped>\n",
       "    .dataframe tbody tr th:only-of-type {\n",
       "        vertical-align: middle;\n",
       "    }\n",
       "\n",
       "    .dataframe tbody tr th {\n",
       "        vertical-align: top;\n",
       "    }\n",
       "\n",
       "    .dataframe thead th {\n",
       "        text-align: right;\n",
       "    }\n",
       "</style>\n",
       "<table border=\"1\" class=\"dataframe\">\n",
       "  <thead>\n",
       "    <tr style=\"text-align: right;\">\n",
       "      <th></th>\n",
       "      <th>text</th>\n",
       "      <th>target</th>\n",
       "      <th>overview_length</th>\n",
       "      <th>Tokenized</th>\n",
       "      <th>Removed_punct</th>\n",
       "      <th>No_numbers</th>\n",
       "      <th>lem text</th>\n",
       "      <th>test2</th>\n",
       "    </tr>\n",
       "  </thead>\n",
       "  <tbody>\n",
       "    <tr>\n",
       "      <th>0</th>\n",
       "      <td>Our Deeds are the Reason of this #earthquake M...</td>\n",
       "      <td>1</td>\n",
       "      <td>69</td>\n",
       "      <td>[Our, Deeds, are, the, Reason, of, this, #, ea...</td>\n",
       "      <td>Our Deeds are the Reason of this earthquake Ma...</td>\n",
       "      <td>our deeds are the reason of this earthquake ma...</td>\n",
       "      <td>our deed are the reason of this earthquake may...</td>\n",
       "      <td>our deeds are the reason of this  earthquake m...</td>\n",
       "    </tr>\n",
       "    <tr>\n",
       "      <th>1</th>\n",
       "      <td>Forest fire near La Ronge Sask. Canada</td>\n",
       "      <td>1</td>\n",
       "      <td>38</td>\n",
       "      <td>[Forest, fire, near, La, Ronge, Sask, ., Canada]</td>\n",
       "      <td>Forest fire near La Ronge Sask Canada</td>\n",
       "      <td>forest fire near la ronge sask canada</td>\n",
       "      <td>forest fire near la ronge sask canada</td>\n",
       "      <td>forest fire near la ronge sask  canada</td>\n",
       "    </tr>\n",
       "    <tr>\n",
       "      <th>2</th>\n",
       "      <td>All residents asked to 'shelter in place' are ...</td>\n",
       "      <td>1</td>\n",
       "      <td>133</td>\n",
       "      <td>[All, residents, asked, to, 'shelter, in, plac...</td>\n",
       "      <td>All residents asked to 'shelter in place are b...</td>\n",
       "      <td>all residents asked to shelter in place are be...</td>\n",
       "      <td>all resident asked to shelter in place are bei...</td>\n",
       "      <td>all residents asked to  shelter in place  are ...</td>\n",
       "    </tr>\n",
       "    <tr>\n",
       "      <th>3</th>\n",
       "      <td>13,000 people receive #wildfires evacuation or...</td>\n",
       "      <td>1</td>\n",
       "      <td>65</td>\n",
       "      <td>[13,000, people, receive, #, wildfires, evacua...</td>\n",
       "      <td>13,000 people receive wildfires evacuation ord...</td>\n",
       "      <td>people receive wildfires evacuation orders in ...</td>\n",
       "      <td>people receive wildfire evacuation order in ca...</td>\n",
       "      <td>people receive  wildfires evacuation orders ...</td>\n",
       "    </tr>\n",
       "    <tr>\n",
       "      <th>4</th>\n",
       "      <td>Just got sent this photo from Ruby #Alaska as ...</td>\n",
       "      <td>1</td>\n",
       "      <td>88</td>\n",
       "      <td>[Just, got, sent, this, photo, from, Ruby, #, ...</td>\n",
       "      <td>Just got sent this photo from Ruby Alaska as s...</td>\n",
       "      <td>just got sent this photo from ruby alaska as s...</td>\n",
       "      <td>just got sent this photo from ruby alaska a sm...</td>\n",
       "      <td>just got sent this photo from ruby  alaska as ...</td>\n",
       "    </tr>\n",
       "  </tbody>\n",
       "</table>\n",
       "</div>"
      ],
      "text/plain": [
       "                                                text  target  overview_length  \\\n",
       "0  Our Deeds are the Reason of this #earthquake M...       1               69   \n",
       "1             Forest fire near La Ronge Sask. Canada       1               38   \n",
       "2  All residents asked to 'shelter in place' are ...       1              133   \n",
       "3  13,000 people receive #wildfires evacuation or...       1               65   \n",
       "4  Just got sent this photo from Ruby #Alaska as ...       1               88   \n",
       "\n",
       "                                           Tokenized  \\\n",
       "0  [Our, Deeds, are, the, Reason, of, this, #, ea...   \n",
       "1   [Forest, fire, near, La, Ronge, Sask, ., Canada]   \n",
       "2  [All, residents, asked, to, 'shelter, in, plac...   \n",
       "3  [13,000, people, receive, #, wildfires, evacua...   \n",
       "4  [Just, got, sent, this, photo, from, Ruby, #, ...   \n",
       "\n",
       "                                       Removed_punct  \\\n",
       "0  Our Deeds are the Reason of this earthquake Ma...   \n",
       "1              Forest fire near La Ronge Sask Canada   \n",
       "2  All residents asked to 'shelter in place are b...   \n",
       "3  13,000 people receive wildfires evacuation ord...   \n",
       "4  Just got sent this photo from Ruby Alaska as s...   \n",
       "\n",
       "                                          No_numbers  \\\n",
       "0  our deeds are the reason of this earthquake ma...   \n",
       "1              forest fire near la ronge sask canada   \n",
       "2  all residents asked to shelter in place are be...   \n",
       "3  people receive wildfires evacuation orders in ...   \n",
       "4  just got sent this photo from ruby alaska as s...   \n",
       "\n",
       "                                            lem text  \\\n",
       "0  our deed are the reason of this earthquake may...   \n",
       "1              forest fire near la ronge sask canada   \n",
       "2  all resident asked to shelter in place are bei...   \n",
       "3  people receive wildfire evacuation order in ca...   \n",
       "4  just got sent this photo from ruby alaska a sm...   \n",
       "\n",
       "                                               test2  \n",
       "0  our deeds are the reason of this  earthquake m...  \n",
       "1             forest fire near la ronge sask  canada  \n",
       "2  all residents asked to  shelter in place  are ...  \n",
       "3    people receive  wildfires evacuation orders ...  \n",
       "4  just got sent this photo from ruby  alaska as ...  "
      ]
     },
     "execution_count": 22,
     "metadata": {},
     "output_type": "execute_result"
    }
   ],
   "source": [
    "df_select['test2']= df_select['text'].apply(clean_text)\n",
    "df_select.head()"
   ]
  },
  {
   "cell_type": "code",
   "execution_count": 23,
   "id": "b88cfb39",
   "metadata": {
    "execution": {
     "iopub.execute_input": "2023-02-23T13:14:39.732934Z",
     "iopub.status.busy": "2023-02-23T13:14:39.732523Z",
     "iopub.status.idle": "2023-02-23T13:14:40.814776Z",
     "shell.execute_reply": "2023-02-23T13:14:40.813499Z"
    },
    "papermill": {
     "duration": 1.099535,
     "end_time": "2023-02-23T13:14:40.817795",
     "exception": false,
     "start_time": "2023-02-23T13:14:39.718260",
     "status": "completed"
    },
    "tags": []
   },
   "outputs": [
    {
     "data": {
      "image/png": "[encoded data removed]",
      "text/plain": [
       "<Figure size 432x288 with 1 Axes>"
      ]
     },
     "metadata": {
      "needs_background": "light"
     },
     "output_type": "display_data"
    }
   ],
   "source": [
    "text = df_select['test2'].tolist()\n",
    "#create the wordcloud object\n",
    "# create the WordCloud object\n",
    "wordcloud = WordCloud(min_word_length =3,\n",
    "                      background_color='white')\n",
    "\n",
    "# generate the word cloud\n",
    "wordcloud.generate(str(text))\n",
    "plt.imshow(wordcloud)\n",
    "plt.axis(\"off\")\n",
    "plt.show()"
   ]
  },
  {
   "cell_type": "code",
   "execution_count": 24,
   "id": "effeead8",
   "metadata": {
    "execution": {
     "iopub.execute_input": "2023-02-23T13:14:40.848453Z",
     "iopub.status.busy": "2023-02-23T13:14:40.847835Z",
     "iopub.status.idle": "2023-02-23T13:14:41.111594Z",
     "shell.execute_reply": "2023-02-23T13:14:41.110226Z"
    },
    "papermill": {
     "duration": 0.281809,
     "end_time": "2023-02-23T13:14:41.113979",
     "exception": false,
     "start_time": "2023-02-23T13:14:40.832170",
     "status": "completed"
    },
    "tags": []
   },
   "outputs": [
    {
     "name": "stdout",
     "output_type": "stream",
     "text": [
      "[('fire', 147), ('new', 125), ('people', 77), ('will', 71), ('storm', 68)]\n",
      "[('new', 1.0), ('will', 0.9004739336492891), ('fire', 0.8815165876777251), ('one', 0.8815165876777251), ('people', 0.8056872037914692)]\n"
     ]
    }
   ],
   "source": [
    "# create a dictionary of word frequencies\n",
    "text = df_select[df_select['target']==1]['test2'].tolist()\n",
    "text = \" \".join(text)\n",
    "text_dictionary = wordcloud.process_text(text)\n",
    "# sort the dictionary\n",
    "word_freq={k: v for k, v in sorted(text_dictionary.items(),reverse=True, key=lambda item: item[1])}\n",
    "\n",
    "#use words_ to print relative word frequencies\n",
    "rel_freq=wordcloud.words_\n",
    "#print results\n",
    "print(list(word_freq.items())[:5])\n",
    "print(list(rel_freq.items())[:5])\n"
   ]
  },
  {
   "cell_type": "code",
   "execution_count": 25,
   "id": "2010d638",
   "metadata": {
    "execution": {
     "iopub.execute_input": "2023-02-23T13:14:41.144045Z",
     "iopub.status.busy": "2023-02-23T13:14:41.143271Z",
     "iopub.status.idle": "2023-02-23T13:14:41.300419Z",
     "shell.execute_reply": "2023-02-23T13:14:41.299215Z"
    },
    "papermill": {
     "duration": 0.17536,
     "end_time": "2023-02-23T13:14:41.303375",
     "exception": false,
     "start_time": "2023-02-23T13:14:41.128015",
     "status": "completed"
    },
    "tags": []
   },
   "outputs": [],
   "source": [
    "#VEctorization\n",
    "Tf_vector = TfidfVectorizer()\n",
    "vectors = Tf_vector.fit_transform(df_select['test2'])"
   ]
  },
  {
   "cell_type": "code",
   "execution_count": 26,
   "id": "8ae49eb1",
   "metadata": {
    "execution": {
     "iopub.execute_input": "2023-02-23T13:14:41.333693Z",
     "iopub.status.busy": "2023-02-23T13:14:41.332525Z",
     "iopub.status.idle": "2023-02-23T13:14:41.819950Z",
     "shell.execute_reply": "2023-02-23T13:14:41.818752Z"
    },
    "papermill": {
     "duration": 0.505246,
     "end_time": "2023-02-23T13:14:41.822494",
     "exception": false,
     "start_time": "2023-02-23T13:14:41.317248",
     "status": "completed"
    },
    "tags": []
   },
   "outputs": [
    {
     "data": {
      "text/plain": [
       "array([[0., 0., 0., ..., 0., 0., 0.],\n",
       "       [0., 0., 0., ..., 0., 0., 0.],\n",
       "       [0., 0., 0., ..., 0., 0., 0.],\n",
       "       ...,\n",
       "       [0., 0., 0., ..., 0., 0., 0.],\n",
       "       [0., 0., 0., ..., 0., 0., 0.],\n",
       "       [0., 0., 0., ..., 0., 0., 0.]])"
      ]
     },
     "execution_count": 26,
     "metadata": {},
     "output_type": "execute_result"
    }
   ],
   "source": [
    "vectors.toarray()"
   ]
  },
  {
   "cell_type": "code",
   "execution_count": 27,
   "id": "8ce718f8",
   "metadata": {
    "execution": {
     "iopub.execute_input": "2023-02-23T13:14:41.853335Z",
     "iopub.status.busy": "2023-02-23T13:14:41.852428Z",
     "iopub.status.idle": "2023-02-23T13:14:41.860781Z",
     "shell.execute_reply": "2023-02-23T13:14:41.859555Z"
    },
    "papermill": {
     "duration": 0.026208,
     "end_time": "2023-02-23T13:14:41.863208",
     "exception": false,
     "start_time": "2023-02-23T13:14:41.837000",
     "status": "completed"
    },
    "tags": []
   },
   "outputs": [],
   "source": [
    "## Modeling\n",
    "X_test, X_train, y_test, y_train = train_test_split(vectors, df_select['target'], test_size=0.30, random_state=42)"
   ]
  },
  {
   "cell_type": "code",
   "execution_count": 28,
   "id": "64a3b23d",
   "metadata": {
    "execution": {
     "iopub.execute_input": "2023-02-23T13:14:41.893288Z",
     "iopub.status.busy": "2023-02-23T13:14:41.892887Z",
     "iopub.status.idle": "2023-02-23T13:14:41.897978Z",
     "shell.execute_reply": "2023-02-23T13:14:41.896750Z"
    },
    "papermill": {
     "duration": 0.023295,
     "end_time": "2023-02-23T13:14:41.900639",
     "exception": false,
     "start_time": "2023-02-23T13:14:41.877344",
     "status": "completed"
    },
    "tags": []
   },
   "outputs": [],
   "source": [
    "### Baseline model\n",
    "\n",
    "#model = MultinomialNB()"
   ]
  },
  {
   "cell_type": "code",
   "execution_count": 29,
   "id": "3983c84e",
   "metadata": {
    "execution": {
     "iopub.execute_input": "2023-02-23T13:14:41.930868Z",
     "iopub.status.busy": "2023-02-23T13:14:41.930458Z",
     "iopub.status.idle": "2023-02-23T13:14:41.935903Z",
     "shell.execute_reply": "2023-02-23T13:14:41.934744Z"
    },
    "papermill": {
     "duration": 0.023667,
     "end_time": "2023-02-23T13:14:41.938416",
     "exception": false,
     "start_time": "2023-02-23T13:14:41.914749",
     "status": "completed"
    },
    "tags": []
   },
   "outputs": [],
   "source": [
    "### Model 2 \n",
    "from sklearn import svm\n",
    "model = svm.SVC()"
   ]
  },
  {
   "cell_type": "code",
   "execution_count": 30,
   "id": "3460c0da",
   "metadata": {
    "execution": {
     "iopub.execute_input": "2023-02-23T13:14:41.969560Z",
     "iopub.status.busy": "2023-02-23T13:14:41.969091Z",
     "iopub.status.idle": "2023-02-23T13:14:45.194962Z",
     "shell.execute_reply": "2023-02-23T13:14:45.193472Z"
    },
    "papermill": {
     "duration": 3.244713,
     "end_time": "2023-02-23T13:14:45.198336",
     "exception": false,
     "start_time": "2023-02-23T13:14:41.953623",
     "status": "completed"
    },
    "tags": []
   },
   "outputs": [
    {
     "name": "stdout",
     "output_type": "stream",
     "text": [
      "\n",
      "Train set score: 0.9772329246935202\n",
      "Test set score: 0.7691874648151623\n"
     ]
    }
   ],
   "source": [
    "model.fit(X_train, y_train)\n",
    "score_train = model.score(X_train, y_train)\n",
    "score_test = model.score(X_test, y_test)\n",
    "print(\"\\nTrain set score:\", score_train)\n",
    "print(\"Test set score:\", score_test)"
   ]
  },
  {
   "cell_type": "code",
   "execution_count": 31,
   "id": "ce3e480b",
   "metadata": {
    "execution": {
     "iopub.execute_input": "2023-02-23T13:14:45.229247Z",
     "iopub.status.busy": "2023-02-23T13:14:45.228852Z",
     "iopub.status.idle": "2023-02-23T13:14:46.900968Z",
     "shell.execute_reply": "2023-02-23T13:14:46.899604Z"
    },
    "papermill": {
     "duration": 1.690623,
     "end_time": "2023-02-23T13:14:46.903777",
     "exception": false,
     "start_time": "2023-02-23T13:14:45.213154",
     "status": "completed"
    },
    "tags": []
   },
   "outputs": [],
   "source": [
    "y_pred = model.predict(X_test)"
   ]
  },
  {
   "cell_type": "code",
   "execution_count": 32,
   "id": "7e75f665",
   "metadata": {
    "execution": {
     "iopub.execute_input": "2023-02-23T13:14:46.934452Z",
     "iopub.status.busy": "2023-02-23T13:14:46.934054Z",
     "iopub.status.idle": "2023-02-23T13:14:46.957147Z",
     "shell.execute_reply": "2023-02-23T13:14:46.955554Z"
    },
    "papermill": {
     "duration": 0.04143,
     "end_time": "2023-02-23T13:14:46.959604",
     "exception": false,
     "start_time": "2023-02-23T13:14:46.918174",
     "status": "completed"
    },
    "tags": []
   },
   "outputs": [
    {
     "name": "stdout",
     "output_type": "stream",
     "text": [
      "              precision    recall  f1-score   support\n",
      "\n",
      "           0       0.73      0.95      0.82      3024\n",
      "           1       0.88      0.54      0.67      2305\n",
      "\n",
      "    accuracy                           0.77      5329\n",
      "   macro avg       0.81      0.74      0.75      5329\n",
      "weighted avg       0.80      0.77      0.76      5329\n",
      "\n"
     ]
    }
   ],
   "source": [
    "from sklearn.metrics import classification_report\n",
    "print(classification_report(y_test, y_pred))"
   ]
  },
  {
   "cell_type": "code",
   "execution_count": 33,
   "id": "ae355a8f",
   "metadata": {
    "execution": {
     "iopub.execute_input": "2023-02-23T13:14:46.989896Z",
     "iopub.status.busy": "2023-02-23T13:14:46.989177Z",
     "iopub.status.idle": "2023-02-23T13:14:47.022597Z",
     "shell.execute_reply": "2023-02-23T13:14:47.021580Z"
    },
    "papermill": {
     "duration": 0.051178,
     "end_time": "2023-02-23T13:14:47.024959",
     "exception": false,
     "start_time": "2023-02-23T13:14:46.973781",
     "status": "completed"
    },
    "tags": []
   },
   "outputs": [
    {
     "data": {
      "text/html": [
       "<div>\n",
       "<style scoped>\n",
       "    .dataframe tbody tr th:only-of-type {\n",
       "        vertical-align: middle;\n",
       "    }\n",
       "\n",
       "    .dataframe tbody tr th {\n",
       "        vertical-align: top;\n",
       "    }\n",
       "\n",
       "    .dataframe thead th {\n",
       "        text-align: right;\n",
       "    }\n",
       "</style>\n",
       "<table border=\"1\" class=\"dataframe\">\n",
       "  <thead>\n",
       "    <tr style=\"text-align: right;\">\n",
       "      <th></th>\n",
       "      <th>id</th>\n",
       "      <th>keyword</th>\n",
       "      <th>location</th>\n",
       "      <th>text</th>\n",
       "    </tr>\n",
       "  </thead>\n",
       "  <tbody>\n",
       "    <tr>\n",
       "      <th>0</th>\n",
       "      <td>0</td>\n",
       "      <td>NaN</td>\n",
       "      <td>NaN</td>\n",
       "      <td>Just happened a terrible car crash</td>\n",
       "    </tr>\n",
       "    <tr>\n",
       "      <th>1</th>\n",
       "      <td>2</td>\n",
       "      <td>NaN</td>\n",
       "      <td>NaN</td>\n",
       "      <td>Heard about #earthquake is different cities, s...</td>\n",
       "    </tr>\n",
       "    <tr>\n",
       "      <th>2</th>\n",
       "      <td>3</td>\n",
       "      <td>NaN</td>\n",
       "      <td>NaN</td>\n",
       "      <td>there is a forest fire at spot pond, geese are...</td>\n",
       "    </tr>\n",
       "    <tr>\n",
       "      <th>3</th>\n",
       "      <td>9</td>\n",
       "      <td>NaN</td>\n",
       "      <td>NaN</td>\n",
       "      <td>Apocalypse lighting. #Spokane #wildfires</td>\n",
       "    </tr>\n",
       "    <tr>\n",
       "      <th>4</th>\n",
       "      <td>11</td>\n",
       "      <td>NaN</td>\n",
       "      <td>NaN</td>\n",
       "      <td>Typhoon Soudelor kills 28 in China and Taiwan</td>\n",
       "    </tr>\n",
       "  </tbody>\n",
       "</table>\n",
       "</div>"
      ],
      "text/plain": [
       "   id keyword location                                               text\n",
       "0   0     NaN      NaN                 Just happened a terrible car crash\n",
       "1   2     NaN      NaN  Heard about #earthquake is different cities, s...\n",
       "2   3     NaN      NaN  there is a forest fire at spot pond, geese are...\n",
       "3   9     NaN      NaN           Apocalypse lighting. #Spokane #wildfires\n",
       "4  11     NaN      NaN      Typhoon Soudelor kills 28 in China and Taiwan"
      ]
     },
     "execution_count": 33,
     "metadata": {},
     "output_type": "execute_result"
    }
   ],
   "source": [
    "## Read test file\n",
    "df_test = pd.read_csv('/kaggle/input/nlp-getting-started/test.csv')\n",
    "df_test.head()"
   ]
  },
  {
   "cell_type": "code",
   "execution_count": 34,
   "id": "350881c7",
   "metadata": {
    "execution": {
     "iopub.execute_input": "2023-02-23T13:14:47.056103Z",
     "iopub.status.busy": "2023-02-23T13:14:47.055295Z",
     "iopub.status.idle": "2023-02-23T13:14:47.063927Z",
     "shell.execute_reply": "2023-02-23T13:14:47.063012Z"
    },
    "papermill": {
     "duration": 0.026358,
     "end_time": "2023-02-23T13:14:47.066085",
     "exception": false,
     "start_time": "2023-02-23T13:14:47.039727",
     "status": "completed"
    },
    "tags": []
   },
   "outputs": [
    {
     "data": {
      "text/plain": [
       "0                      Just happened a terrible car crash\n",
       "1       Heard about #earthquake is different cities, s...\n",
       "2       there is a forest fire at spot pond, geese are...\n",
       "3                Apocalypse lighting. #Spokane #wildfires\n",
       "4           Typhoon Soudelor kills 28 in China and Taiwan\n",
       "                              ...                        \n",
       "3258    EARTHQUAKE SAFETY LOS ANGELES ÛÒ SAFETY FASTE...\n",
       "3259    Storm in RI worse than last hurricane. My city...\n",
       "3260    Green Line derailment in Chicago http://t.co/U...\n",
       "3261    MEG issues Hazardous Weather Outlook (HWO) htt...\n",
       "3262    #CityofCalgary has activated its Municipal Eme...\n",
       "Name: text, Length: 3263, dtype: object"
      ]
     },
     "execution_count": 34,
     "metadata": {},
     "output_type": "execute_result"
    }
   ],
   "source": [
    "df_test['text']"
   ]
  },
  {
   "cell_type": "code",
   "execution_count": 35,
   "id": "f9e2d123",
   "metadata": {
    "execution": {
     "iopub.execute_input": "2023-02-23T13:14:47.098052Z",
     "iopub.status.busy": "2023-02-23T13:14:47.096887Z",
     "iopub.status.idle": "2023-02-23T13:14:47.483258Z",
     "shell.execute_reply": "2023-02-23T13:14:47.482038Z"
    },
    "papermill": {
     "duration": 0.404732,
     "end_time": "2023-02-23T13:14:47.485724",
     "exception": false,
     "start_time": "2023-02-23T13:14:47.080992",
     "status": "completed"
    },
    "tags": []
   },
   "outputs": [
    {
     "data": {
      "text/plain": [
       "0                      just happened a terrible car crash\n",
       "1       heard about  earthquake is different cities  s...\n",
       "2       there is a forest fire at spot pond  geese are...\n",
       "3                apocalypse lighting   spokane  wildfires\n",
       "4             typhoon soudelor kills  in china and taiwan\n",
       "                              ...                        \n",
       "3258    earthquake safety los angeles  safety fastener...\n",
       "3259    storm in ri worse than last hurricane  my city...\n",
       "3260                    green line derailment in chicago \n",
       "3261          meg issues hazardous weather outlook  hwo  \n",
       "3262     cityofcalgary has activated its municipal eme...\n",
       "Name: text, Length: 3263, dtype: object"
      ]
     },
     "execution_count": 35,
     "metadata": {},
     "output_type": "execute_result"
    }
   ],
   "source": [
    "from sklearn.preprocessing import FunctionTransformer\n",
    "from sklearn.pipeline import Pipeline\n",
    "\n",
    "### Add vectorization.transform function to pipeline and model.predict to pipeline\n",
    "pipe_text = Pipeline([('col_test', FunctionTransformer(clean_text, validate=False))])\n",
    "df_test['text'] = df_test['text'].apply(lambda x : pipe_text.fit_transform(str(x)))\n",
    "df_test['text']"
   ]
  },
  {
   "cell_type": "code",
   "execution_count": 36,
   "id": "06fdf52f",
   "metadata": {
    "execution": {
     "iopub.execute_input": "2023-02-23T13:14:47.518021Z",
     "iopub.status.busy": "2023-02-23T13:14:47.516915Z",
     "iopub.status.idle": "2023-02-23T13:14:48.537781Z",
     "shell.execute_reply": "2023-02-23T13:14:48.536520Z"
    },
    "papermill": {
     "duration": 1.039915,
     "end_time": "2023-02-23T13:14:48.540584",
     "exception": false,
     "start_time": "2023-02-23T13:14:47.500669",
     "status": "completed"
    },
    "tags": []
   },
   "outputs": [],
   "source": [
    "pipe_predict = Pipeline([('vector',Tf_vector),('model',model)])#,,('model',model)\n",
    "predicted = pipe_predict.predict(df_test['text'])"
   ]
  },
  {
   "cell_type": "code",
   "execution_count": 37,
   "id": "1b2edf18",
   "metadata": {
    "execution": {
     "iopub.execute_input": "2023-02-23T13:14:48.571947Z",
     "iopub.status.busy": "2023-02-23T13:14:48.571523Z",
     "iopub.status.idle": "2023-02-23T13:14:48.584693Z",
     "shell.execute_reply": "2023-02-23T13:14:48.583555Z"
    },
    "papermill": {
     "duration": 0.032079,
     "end_time": "2023-02-23T13:14:48.587432",
     "exception": false,
     "start_time": "2023-02-23T13:14:48.555353",
     "status": "completed"
    },
    "tags": []
   },
   "outputs": [],
   "source": [
    "## create submission file\n",
    "sample_submission = pd.read_csv('/kaggle/input/nlp-getting-started/sample_submission.csv')\n",
    "sample_submission['target']= predicted\n"
   ]
  },
  {
   "cell_type": "code",
   "execution_count": 38,
   "id": "6045bf16",
   "metadata": {
    "execution": {
     "iopub.execute_input": "2023-02-23T13:14:48.619710Z",
     "iopub.status.busy": "2023-02-23T13:14:48.618900Z",
     "iopub.status.idle": "2023-02-23T13:14:48.629831Z",
     "shell.execute_reply": "2023-02-23T13:14:48.628723Z"
    },
    "papermill": {
     "duration": 0.029771,
     "end_time": "2023-02-23T13:14:48.632108",
     "exception": false,
     "start_time": "2023-02-23T13:14:48.602337",
     "status": "completed"
    },
    "tags": []
   },
   "outputs": [
    {
     "data": {
      "text/html": [
       "<div>\n",
       "<style scoped>\n",
       "    .dataframe tbody tr th:only-of-type {\n",
       "        vertical-align: middle;\n",
       "    }\n",
       "\n",
       "    .dataframe tbody tr th {\n",
       "        vertical-align: top;\n",
       "    }\n",
       "\n",
       "    .dataframe thead th {\n",
       "        text-align: right;\n",
       "    }\n",
       "</style>\n",
       "<table border=\"1\" class=\"dataframe\">\n",
       "  <thead>\n",
       "    <tr style=\"text-align: right;\">\n",
       "      <th></th>\n",
       "      <th>id</th>\n",
       "      <th>target</th>\n",
       "    </tr>\n",
       "  </thead>\n",
       "  <tbody>\n",
       "    <tr>\n",
       "      <th>0</th>\n",
       "      <td>0</td>\n",
       "      <td>1</td>\n",
       "    </tr>\n",
       "    <tr>\n",
       "      <th>1</th>\n",
       "      <td>2</td>\n",
       "      <td>0</td>\n",
       "    </tr>\n",
       "    <tr>\n",
       "      <th>2</th>\n",
       "      <td>3</td>\n",
       "      <td>1</td>\n",
       "    </tr>\n",
       "    <tr>\n",
       "      <th>3</th>\n",
       "      <td>9</td>\n",
       "      <td>0</td>\n",
       "    </tr>\n",
       "    <tr>\n",
       "      <th>4</th>\n",
       "      <td>11</td>\n",
       "      <td>1</td>\n",
       "    </tr>\n",
       "  </tbody>\n",
       "</table>\n",
       "</div>"
      ],
      "text/plain": [
       "   id  target\n",
       "0   0       1\n",
       "1   2       0\n",
       "2   3       1\n",
       "3   9       0\n",
       "4  11       1"
      ]
     },
     "execution_count": 38,
     "metadata": {},
     "output_type": "execute_result"
    }
   ],
   "source": [
    "sample_submission.head()"
   ]
  },
  {
   "cell_type": "code",
   "execution_count": 39,
   "id": "8b6a04bd",
   "metadata": {
    "execution": {
     "iopub.execute_input": "2023-02-23T13:14:48.664897Z",
     "iopub.status.busy": "2023-02-23T13:14:48.664162Z",
     "iopub.status.idle": "2023-02-23T13:14:48.675850Z",
     "shell.execute_reply": "2023-02-23T13:14:48.674725Z"
    },
    "papermill": {
     "duration": 0.03122,
     "end_time": "2023-02-23T13:14:48.678474",
     "exception": false,
     "start_time": "2023-02-23T13:14:48.647254",
     "status": "completed"
    },
    "tags": []
   },
   "outputs": [],
   "source": [
    "sample_submission.to_csv('submission.csv', index=False)"
   ]
  }
 ],
 "metadata": {
  "kernelspec": {
   "display_name": "Python 3",
   "language": "python",
   "name": "python3"
  },
  "language_info": {
   "codemirror_mode": {
    "name": "ipython",
    "version": 3
   },
   "file_extension": ".py",
   "mimetype": "text/x-python",
   "name": "python",
   "nbconvert_exporter": "python",
   "pygments_lexer": "ipython3",
   "version": "3.7.12"
  },
  "papermill": {
   "default_parameters": {},
   "duration": 27.448793,
   "end_time": "2023-02-23T13:14:49.718256",
   "environment_variables": {},
   "exception": null,
   "input_path": "__notebook__.ipynb",
   "output_path": "__notebook__.ipynb",
   "parameters": {},
   "start_time": "2023-02-23T13:14:22.269463",
   "version": "2.3.4"
  }
 },
 "nbformat": 4,
 "nbformat_minor": 5
}

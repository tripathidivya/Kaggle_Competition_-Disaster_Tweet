{
 "cells": [
  {
   "cell_type": "code",
   "execution_count": 1,
   "id": "b381a918",
   "metadata": {
    "_cell_guid": "b1076dfc-b9ad-4769-8c92-a6c4dae69d19",
    "_uuid": "8f2839f25d086af736a60e9eeb907d3b93b6e0e5",
    "execution": {
     "iopub.execute_input": "2023-02-23T13:41:39.221932Z",
     "iopub.status.busy": "2023-02-23T13:41:39.221380Z",
     "iopub.status.idle": "2023-02-23T13:41:39.239157Z",
     "shell.execute_reply": "2023-02-23T13:41:39.237581Z"
    },
    "papermill": {
     "duration": 0.033951,
     "end_time": "2023-02-23T13:41:39.242236",
     "exception": false,
     "start_time": "2023-02-23T13:41:39.208285",
     "status": "completed"
    },
    "tags": []
   },
   "outputs": [
    {
     "name": "stdout",
     "output_type": "stream",
     "text": [
      "/kaggle/input/nlp-getting-started/sample_submission.csv\n",
      "/kaggle/input/nlp-getting-started/train.csv\n",
      "/kaggle/input/nlp-getting-started/test.csv\n"
     ]
    }
   ],
   "source": [
    "# This Python 3 environment comes with many helpful analytics libraries installed\n",
    "# It is defined by the kaggle/python Docker image: https://github.com/kaggle/docker-python\n",
    "# For example, here's several helpful packages to load\n",
    "\n",
    "import numpy as np # linear algebra\n",
    "import pandas as pd # data processing, CSV file I/O (e.g. pd.read_csv)\n",
    "\n",
    "# Input data files are available in the read-only \"../input/\" directory\n",
    "# For example, running this (by clicking run or pressing Shift+Enter) will list all files under the input directory\n",
    "\n",
    "import os\n",
    "for dirname, _, filenames in os.walk('/kaggle/input'):\n",
    "    for filename in filenames:\n",
    "        print(os.path.join(dirname, filename))\n",
    "\n",
    "# You can write up to 20GB to the current directory (/kaggle/working/) that gets preserved as output when you create a version using \"Save & Run All\" \n",
    "# You can also write temporary files to /kaggle/temp/, but they won't be saved outside of the current session"
   ]
  },
  {
   "cell_type": "code",
   "execution_count": 2,
   "id": "b851168c",
   "metadata": {
    "execution": {
     "iopub.execute_input": "2023-02-23T13:41:39.265496Z",
     "iopub.status.busy": "2023-02-23T13:41:39.264705Z",
     "iopub.status.idle": "2023-02-23T13:41:41.380171Z",
     "shell.execute_reply": "2023-02-23T13:41:41.379191Z"
    },
    "papermill": {
     "duration": 2.130155,
     "end_time": "2023-02-23T13:41:41.382959",
     "exception": false,
     "start_time": "2023-02-23T13:41:39.252804",
     "status": "completed"
    },
    "tags": []
   },
   "outputs": [],
   "source": [
    "from wordcloud import WordCloud \n",
    "from nltk.corpus import stopwords\n",
    "import matplotlib\n",
    "from matplotlib import pyplot as plt\n",
    "from nltk.stem import WordNetLemmatizer\n",
    "from sklearn.feature_extraction.text import CountVectorizer, TfidfVectorizer\n",
    "from nltk.tokenize import word_tokenize\n",
    "import string\n",
    "import re\n",
    "from sklearn.pipeline import Pipeline\n",
    "from sklearn.model_selection import train_test_split\n",
    "from sklearn.naive_bayes import MultinomialNB\n",
    "from nltk.corpus import stopwords\n",
    "stop = stopwords.words('english')"
   ]
  },
  {
   "cell_type": "code",
   "execution_count": 3,
   "id": "70c00a0f",
   "metadata": {
    "execution": {
     "iopub.execute_input": "2023-02-23T13:41:41.404844Z",
     "iopub.status.busy": "2023-02-23T13:41:41.404386Z",
     "iopub.status.idle": "2023-02-23T13:41:41.490873Z",
     "shell.execute_reply": "2023-02-23T13:41:41.489541Z"
    },
    "papermill": {
     "duration": 0.100765,
     "end_time": "2023-02-23T13:41:41.493663",
     "exception": false,
     "start_time": "2023-02-23T13:41:41.392898",
     "status": "completed"
    },
    "tags": []
   },
   "outputs": [
    {
     "data": {
      "text/html": [
       "<div>\n",
       "<style scoped>\n",
       "    .dataframe tbody tr th:only-of-type {\n",
       "        vertical-align: middle;\n",
       "    }\n",
       "\n",
       "    .dataframe tbody tr th {\n",
       "        vertical-align: top;\n",
       "    }\n",
       "\n",
       "    .dataframe thead th {\n",
       "        text-align: right;\n",
       "    }\n",
       "</style>\n",
       "<table border=\"1\" class=\"dataframe\">\n",
       "  <thead>\n",
       "    <tr style=\"text-align: right;\">\n",
       "      <th></th>\n",
       "      <th>id</th>\n",
       "      <th>keyword</th>\n",
       "      <th>location</th>\n",
       "      <th>text</th>\n",
       "      <th>target</th>\n",
       "    </tr>\n",
       "  </thead>\n",
       "  <tbody>\n",
       "    <tr>\n",
       "      <th>0</th>\n",
       "      <td>1</td>\n",
       "      <td>NaN</td>\n",
       "      <td>NaN</td>\n",
       "      <td>Our Deeds are the Reason of this #earthquake M...</td>\n",
       "      <td>1</td>\n",
       "    </tr>\n",
       "    <tr>\n",
       "      <th>1</th>\n",
       "      <td>4</td>\n",
       "      <td>NaN</td>\n",
       "      <td>NaN</td>\n",
       "      <td>Forest fire near La Ronge Sask. Canada</td>\n",
       "      <td>1</td>\n",
       "    </tr>\n",
       "    <tr>\n",
       "      <th>2</th>\n",
       "      <td>5</td>\n",
       "      <td>NaN</td>\n",
       "      <td>NaN</td>\n",
       "      <td>All residents asked to 'shelter in place' are ...</td>\n",
       "      <td>1</td>\n",
       "    </tr>\n",
       "    <tr>\n",
       "      <th>3</th>\n",
       "      <td>6</td>\n",
       "      <td>NaN</td>\n",
       "      <td>NaN</td>\n",
       "      <td>13,000 people receive #wildfires evacuation or...</td>\n",
       "      <td>1</td>\n",
       "    </tr>\n",
       "    <tr>\n",
       "      <th>4</th>\n",
       "      <td>7</td>\n",
       "      <td>NaN</td>\n",
       "      <td>NaN</td>\n",
       "      <td>Just got sent this photo from Ruby #Alaska as ...</td>\n",
       "      <td>1</td>\n",
       "    </tr>\n",
       "  </tbody>\n",
       "</table>\n",
       "</div>"
      ],
      "text/plain": [
       "   id keyword location                                               text  \\\n",
       "0   1     NaN      NaN  Our Deeds are the Reason of this #earthquake M...   \n",
       "1   4     NaN      NaN             Forest fire near La Ronge Sask. Canada   \n",
       "2   5     NaN      NaN  All residents asked to 'shelter in place' are ...   \n",
       "3   6     NaN      NaN  13,000 people receive #wildfires evacuation or...   \n",
       "4   7     NaN      NaN  Just got sent this photo from Ruby #Alaska as ...   \n",
       "\n",
       "   target  \n",
       "0       1  \n",
       "1       1  \n",
       "2       1  \n",
       "3       1  \n",
       "4       1  "
      ]
     },
     "execution_count": 3,
     "metadata": {},
     "output_type": "execute_result"
    }
   ],
   "source": [
    "#train data read\n",
    "df = pd.read_csv('/kaggle/input/nlp-getting-started/train.csv')\n",
    "df.head()"
   ]
  },
  {
   "cell_type": "code",
   "execution_count": 4,
   "id": "fc6fa36c",
   "metadata": {
    "execution": {
     "iopub.execute_input": "2023-02-23T13:41:41.516162Z",
     "iopub.status.busy": "2023-02-23T13:41:41.515412Z",
     "iopub.status.idle": "2023-02-23T13:41:41.543816Z",
     "shell.execute_reply": "2023-02-23T13:41:41.542927Z"
    },
    "papermill": {
     "duration": 0.042219,
     "end_time": "2023-02-23T13:41:41.546215",
     "exception": false,
     "start_time": "2023-02-23T13:41:41.503996",
     "status": "completed"
    },
    "tags": []
   },
   "outputs": [
    {
     "name": "stdout",
     "output_type": "stream",
     "text": [
      "<class 'pandas.core.frame.DataFrame'>\n",
      "RangeIndex: 7613 entries, 0 to 7612\n",
      "Data columns (total 5 columns):\n",
      " #   Column    Non-Null Count  Dtype \n",
      "---  ------    --------------  ----- \n",
      " 0   id        7613 non-null   int64 \n",
      " 1   keyword   7552 non-null   object\n",
      " 2   location  5080 non-null   object\n",
      " 3   text      7613 non-null   object\n",
      " 4   target    7613 non-null   int64 \n",
      "dtypes: int64(2), object(3)\n",
      "memory usage: 297.5+ KB\n"
     ]
    }
   ],
   "source": [
    "df.info()"
   ]
  },
  {
   "cell_type": "code",
   "execution_count": 5,
   "id": "f4d4fb34",
   "metadata": {
    "execution": {
     "iopub.execute_input": "2023-02-23T13:41:41.570101Z",
     "iopub.status.busy": "2023-02-23T13:41:41.569574Z",
     "iopub.status.idle": "2023-02-23T13:41:41.582262Z",
     "shell.execute_reply": "2023-02-23T13:41:41.581002Z"
    },
    "papermill": {
     "duration": 0.026986,
     "end_time": "2023-02-23T13:41:41.584793",
     "exception": false,
     "start_time": "2023-02-23T13:41:41.557807",
     "status": "completed"
    },
    "tags": []
   },
   "outputs": [
    {
     "data": {
      "text/html": [
       "<div>\n",
       "<style scoped>\n",
       "    .dataframe tbody tr th:only-of-type {\n",
       "        vertical-align: middle;\n",
       "    }\n",
       "\n",
       "    .dataframe tbody tr th {\n",
       "        vertical-align: top;\n",
       "    }\n",
       "\n",
       "    .dataframe thead th {\n",
       "        text-align: right;\n",
       "    }\n",
       "</style>\n",
       "<table border=\"1\" class=\"dataframe\">\n",
       "  <thead>\n",
       "    <tr style=\"text-align: right;\">\n",
       "      <th></th>\n",
       "      <th>text</th>\n",
       "      <th>target</th>\n",
       "    </tr>\n",
       "  </thead>\n",
       "  <tbody>\n",
       "    <tr>\n",
       "      <th>0</th>\n",
       "      <td>Our Deeds are the Reason of this #earthquake M...</td>\n",
       "      <td>1</td>\n",
       "    </tr>\n",
       "    <tr>\n",
       "      <th>1</th>\n",
       "      <td>Forest fire near La Ronge Sask. Canada</td>\n",
       "      <td>1</td>\n",
       "    </tr>\n",
       "    <tr>\n",
       "      <th>2</th>\n",
       "      <td>All residents asked to 'shelter in place' are ...</td>\n",
       "      <td>1</td>\n",
       "    </tr>\n",
       "    <tr>\n",
       "      <th>3</th>\n",
       "      <td>13,000 people receive #wildfires evacuation or...</td>\n",
       "      <td>1</td>\n",
       "    </tr>\n",
       "    <tr>\n",
       "      <th>4</th>\n",
       "      <td>Just got sent this photo from Ruby #Alaska as ...</td>\n",
       "      <td>1</td>\n",
       "    </tr>\n",
       "  </tbody>\n",
       "</table>\n",
       "</div>"
      ],
      "text/plain": [
       "                                                text  target\n",
       "0  Our Deeds are the Reason of this #earthquake M...       1\n",
       "1             Forest fire near La Ronge Sask. Canada       1\n",
       "2  All residents asked to 'shelter in place' are ...       1\n",
       "3  13,000 people receive #wildfires evacuation or...       1\n",
       "4  Just got sent this photo from Ruby #Alaska as ...       1"
      ]
     },
     "execution_count": 5,
     "metadata": {},
     "output_type": "execute_result"
    }
   ],
   "source": [
    "df_select = df[['text','target']]\n",
    "df_select.head()"
   ]
  },
  {
   "cell_type": "code",
   "execution_count": 6,
   "id": "6b7e2ad6",
   "metadata": {
    "execution": {
     "iopub.execute_input": "2023-02-23T13:41:41.608208Z",
     "iopub.status.busy": "2023-02-23T13:41:41.607746Z",
     "iopub.status.idle": "2023-02-23T13:41:41.621604Z",
     "shell.execute_reply": "2023-02-23T13:41:41.620505Z"
    },
    "papermill": {
     "duration": 0.028477,
     "end_time": "2023-02-23T13:41:41.624176",
     "exception": false,
     "start_time": "2023-02-23T13:41:41.595699",
     "status": "completed"
    },
    "tags": []
   },
   "outputs": [
    {
     "data": {
      "text/html": [
       "<div>\n",
       "<style scoped>\n",
       "    .dataframe tbody tr th:only-of-type {\n",
       "        vertical-align: middle;\n",
       "    }\n",
       "\n",
       "    .dataframe tbody tr th {\n",
       "        vertical-align: top;\n",
       "    }\n",
       "\n",
       "    .dataframe thead th {\n",
       "        text-align: right;\n",
       "    }\n",
       "</style>\n",
       "<table border=\"1\" class=\"dataframe\">\n",
       "  <thead>\n",
       "    <tr style=\"text-align: right;\">\n",
       "      <th></th>\n",
       "      <th>text</th>\n",
       "    </tr>\n",
       "    <tr>\n",
       "      <th>target</th>\n",
       "      <th></th>\n",
       "    </tr>\n",
       "  </thead>\n",
       "  <tbody>\n",
       "    <tr>\n",
       "      <th>0</th>\n",
       "      <td>4342</td>\n",
       "    </tr>\n",
       "    <tr>\n",
       "      <th>1</th>\n",
       "      <td>3271</td>\n",
       "    </tr>\n",
       "  </tbody>\n",
       "</table>\n",
       "</div>"
      ],
      "text/plain": [
       "        text\n",
       "target      \n",
       "0       4342\n",
       "1       3271"
      ]
     },
     "execution_count": 6,
     "metadata": {},
     "output_type": "execute_result"
    }
   ],
   "source": [
    "df_select.groupby('target').count()"
   ]
  },
  {
   "cell_type": "code",
   "execution_count": 7,
   "id": "e161d003",
   "metadata": {
    "execution": {
     "iopub.execute_input": "2023-02-23T13:41:41.647858Z",
     "iopub.status.busy": "2023-02-23T13:41:41.647111Z",
     "iopub.status.idle": "2023-02-23T13:41:41.654966Z",
     "shell.execute_reply": "2023-02-23T13:41:41.653893Z"
    },
    "papermill": {
     "duration": 0.02247,
     "end_time": "2023-02-23T13:41:41.657131",
     "exception": false,
     "start_time": "2023-02-23T13:41:41.634661",
     "status": "completed"
    },
    "tags": []
   },
   "outputs": [
    {
     "data": {
      "text/plain": [
       "0    4342\n",
       "1    3271\n",
       "Name: target, dtype: int64"
      ]
     },
     "execution_count": 7,
     "metadata": {},
     "output_type": "execute_result"
    }
   ],
   "source": [
    "df_select['target'].value_counts()"
   ]
  },
  {
   "cell_type": "code",
   "execution_count": 8,
   "id": "7c38b4f2",
   "metadata": {
    "execution": {
     "iopub.execute_input": "2023-02-23T13:41:41.680987Z",
     "iopub.status.busy": "2023-02-23T13:41:41.680118Z",
     "iopub.status.idle": "2023-02-23T13:41:41.972830Z",
     "shell.execute_reply": "2023-02-23T13:41:41.971586Z"
    },
    "papermill": {
     "duration": 0.307631,
     "end_time": "2023-02-23T13:41:41.975435",
     "exception": false,
     "start_time": "2023-02-23T13:41:41.667804",
     "status": "completed"
    },
    "tags": []
   },
   "outputs": [
    {
     "name": "stdout",
     "output_type": "stream",
     "text": [
      "Mean overview length:  101.03743596479706\n",
      "Min overview length:  7\n",
      "Max overview length:  157\n"
     ]
    },
    {
     "name": "stderr",
     "output_type": "stream",
     "text": [
      "/opt/conda/lib/python3.7/site-packages/ipykernel_launcher.py:1: SettingWithCopyWarning: \n",
      "A value is trying to be set on a copy of a slice from a DataFrame.\n",
      "Try using .loc[row_indexer,col_indexer] = value instead\n",
      "\n",
      "See the caveats in the documentation: https://pandas.pydata.org/pandas-docs/stable/user_guide/indexing.html#returning-a-view-versus-a-copy\n",
      "  \"\"\"Entry point for launching an IPython kernel.\n"
     ]
    },
    {
     "data": {
      "text/plain": [
       "<AxesSubplot:ylabel='Frequency'>"
      ]
     },
     "execution_count": 8,
     "metadata": {},
     "output_type": "execute_result"
    },
    {
     "data": {
      "image/png": "[encoded data removed]",
      "text/plain": [
       "<Figure size 432x288 with 1 Axes>"
      ]
     },
     "metadata": {
      "needs_background": "light"
     },
     "output_type": "display_data"
    }
   ],
   "source": [
    "df_select['overview_length'] = df_select.text.apply(len)\n",
    "print(\"Mean overview length: \", df_select['overview_length'].mean())\n",
    "print(\"Min overview length: \", df_select['overview_length'].min())\n",
    "print(\"Max overview length: \", df_select['overview_length'].max())\n",
    "df_select.overview_length.plot.hist()"
   ]
  },
  {
   "cell_type": "markdown",
   "id": "08cf31b9",
   "metadata": {
    "papermill": {
     "duration": 0.010764,
     "end_time": "2023-02-23T13:41:41.997310",
     "exception": false,
     "start_time": "2023-02-23T13:41:41.986546",
     "status": "completed"
    },
    "tags": []
   },
   "source": [
    "Build Features From Text\n",
    "* CountVectorizer\n",
    "* TFIDF\n",
    "* WordEmbedding\n",
    "* HashingTF\n",
    "* etc"
   ]
  },
  {
   "cell_type": "markdown",
   "id": "68792f28",
   "metadata": {
    "papermill": {
     "duration": 0.011082,
     "end_time": "2023-02-23T13:41:42.019971",
     "exception": false,
     "start_time": "2023-02-23T13:41:42.008889",
     "status": "completed"
    },
    "tags": []
   },
   "source": [
    "Reference : \n",
    "1. https://www.nltk.org/api/nltk.tokenize.html\n",
    "2. https://scikit-learn.org/stable/modules/generated/sklearn.feature_extraction.text.CountVectorizer.html#\n",
    "3. https://towardsdatascience.com/generate-meaningful-word-clouds-in-python-5b85f5668eeb\n",
    "4. https://scikit-learn.org/stable/modules/generated/sklearn.naive_bayes.MultinomialNB.html\n"
   ]
  },
  {
   "cell_type": "code",
   "execution_count": 9,
   "id": "5aa9753a",
   "metadata": {
    "execution": {
     "iopub.execute_input": "2023-02-23T13:41:42.044352Z",
     "iopub.status.busy": "2023-02-23T13:41:42.043466Z",
     "iopub.status.idle": "2023-02-23T13:41:43.697363Z",
     "shell.execute_reply": "2023-02-23T13:41:43.695577Z"
    },
    "papermill": {
     "duration": 1.669321,
     "end_time": "2023-02-23T13:41:43.700288",
     "exception": false,
     "start_time": "2023-02-23T13:41:42.030967",
     "status": "completed"
    },
    "tags": []
   },
   "outputs": [
    {
     "name": "stderr",
     "output_type": "stream",
     "text": [
      "/opt/conda/lib/python3.7/site-packages/ipykernel_launcher.py:3: SettingWithCopyWarning: \n",
      "A value is trying to be set on a copy of a slice from a DataFrame.\n",
      "Try using .loc[row_indexer,col_indexer] = value instead\n",
      "\n",
      "See the caveats in the documentation: https://pandas.pydata.org/pandas-docs/stable/user_guide/indexing.html#returning-a-view-versus-a-copy\n",
      "  This is separate from the ipykernel package so we can avoid doing imports until\n"
     ]
    },
    {
     "data": {
      "text/html": [
       "<div>\n",
       "<style scoped>\n",
       "    .dataframe tbody tr th:only-of-type {\n",
       "        vertical-align: middle;\n",
       "    }\n",
       "\n",
       "    .dataframe tbody tr th {\n",
       "        vertical-align: top;\n",
       "    }\n",
       "\n",
       "    .dataframe thead th {\n",
       "        text-align: right;\n",
       "    }\n",
       "</style>\n",
       "<table border=\"1\" class=\"dataframe\">\n",
       "  <thead>\n",
       "    <tr style=\"text-align: right;\">\n",
       "      <th></th>\n",
       "      <th>text</th>\n",
       "      <th>target</th>\n",
       "      <th>overview_length</th>\n",
       "      <th>Tokenized</th>\n",
       "    </tr>\n",
       "  </thead>\n",
       "  <tbody>\n",
       "    <tr>\n",
       "      <th>0</th>\n",
       "      <td>Our Deeds are the Reason of this #earthquake M...</td>\n",
       "      <td>1</td>\n",
       "      <td>69</td>\n",
       "      <td>[Our, Deeds, are, the, Reason, of, this, #, ea...</td>\n",
       "    </tr>\n",
       "    <tr>\n",
       "      <th>1</th>\n",
       "      <td>Forest fire near La Ronge Sask. Canada</td>\n",
       "      <td>1</td>\n",
       "      <td>38</td>\n",
       "      <td>[Forest, fire, near, La, Ronge, Sask, ., Canada]</td>\n",
       "    </tr>\n",
       "    <tr>\n",
       "      <th>2</th>\n",
       "      <td>All residents asked to 'shelter in place' are ...</td>\n",
       "      <td>1</td>\n",
       "      <td>133</td>\n",
       "      <td>[All, residents, asked, to, 'shelter, in, plac...</td>\n",
       "    </tr>\n",
       "    <tr>\n",
       "      <th>3</th>\n",
       "      <td>13,000 people receive #wildfires evacuation or...</td>\n",
       "      <td>1</td>\n",
       "      <td>65</td>\n",
       "      <td>[13,000, people, receive, #, wildfires, evacua...</td>\n",
       "    </tr>\n",
       "    <tr>\n",
       "      <th>4</th>\n",
       "      <td>Just got sent this photo from Ruby #Alaska as ...</td>\n",
       "      <td>1</td>\n",
       "      <td>88</td>\n",
       "      <td>[Just, got, sent, this, photo, from, Ruby, #, ...</td>\n",
       "    </tr>\n",
       "  </tbody>\n",
       "</table>\n",
       "</div>"
      ],
      "text/plain": [
       "                                                text  target  overview_length  \\\n",
       "0  Our Deeds are the Reason of this #earthquake M...       1               69   \n",
       "1             Forest fire near La Ronge Sask. Canada       1               38   \n",
       "2  All residents asked to 'shelter in place' are ...       1              133   \n",
       "3  13,000 people receive #wildfires evacuation or...       1               65   \n",
       "4  Just got sent this photo from Ruby #Alaska as ...       1               88   \n",
       "\n",
       "                                           Tokenized  \n",
       "0  [Our, Deeds, are, the, Reason, of, this, #, ea...  \n",
       "1   [Forest, fire, near, La, Ronge, Sask, ., Canada]  \n",
       "2  [All, residents, asked, to, 'shelter, in, plac...  \n",
       "3  [13,000, people, receive, #, wildfires, evacua...  \n",
       "4  [Just, got, sent, this, photo, from, Ruby, #, ...  "
      ]
     },
     "execution_count": 9,
     "metadata": {},
     "output_type": "execute_result"
    }
   ],
   "source": [
    "# for stopwords removal : vectorizer = CountVectorizer(stop_words='english')\n",
    "\n",
    "df_select['Tokenized'] = df_select['text'].apply(lambda x : word_tokenize(x))\n",
    "df_select.head()\n"
   ]
  },
  {
   "cell_type": "code",
   "execution_count": 10,
   "id": "34084abb",
   "metadata": {
    "execution": {
     "iopub.execute_input": "2023-02-23T13:41:43.726819Z",
     "iopub.status.busy": "2023-02-23T13:41:43.725960Z",
     "iopub.status.idle": "2023-02-23T13:41:43.734479Z",
     "shell.execute_reply": "2023-02-23T13:41:43.733294Z"
    },
    "papermill": {
     "duration": 0.025311,
     "end_time": "2023-02-23T13:41:43.737201",
     "exception": false,
     "start_time": "2023-02-23T13:41:43.711890",
     "status": "completed"
    },
    "tags": []
   },
   "outputs": [
    {
     "data": {
      "text/plain": [
       "['Our',\n",
       " 'Deeds',\n",
       " 'are',\n",
       " 'the',\n",
       " 'Reason',\n",
       " 'of',\n",
       " 'this',\n",
       " '#',\n",
       " 'earthquake',\n",
       " 'May',\n",
       " 'ALLAH',\n",
       " 'Forgive',\n",
       " 'us',\n",
       " 'all']"
      ]
     },
     "execution_count": 10,
     "metadata": {},
     "output_type": "execute_result"
    }
   ],
   "source": [
    "df_select['Tokenized'][0]"
   ]
  },
  {
   "cell_type": "code",
   "execution_count": 11,
   "id": "2dafdeb1",
   "metadata": {
    "execution": {
     "iopub.execute_input": "2023-02-23T13:41:43.764350Z",
     "iopub.status.busy": "2023-02-23T13:41:43.763178Z",
     "iopub.status.idle": "2023-02-23T13:41:43.768249Z",
     "shell.execute_reply": "2023-02-23T13:41:43.767359Z"
    },
    "papermill": {
     "duration": 0.021034,
     "end_time": "2023-02-23T13:41:43.770713",
     "exception": false,
     "start_time": "2023-02-23T13:41:43.749679",
     "status": "completed"
    },
    "tags": []
   },
   "outputs": [],
   "source": [
    "\n",
    "## Remove non english characters\n",
    "exclude = set(string.punctuation)\n",
    "#exclude\n"
   ]
  },
  {
   "cell_type": "code",
   "execution_count": 12,
   "id": "da53f7df",
   "metadata": {
    "execution": {
     "iopub.execute_input": "2023-02-23T13:41:43.796110Z",
     "iopub.status.busy": "2023-02-23T13:41:43.795651Z",
     "iopub.status.idle": "2023-02-23T13:41:43.801289Z",
     "shell.execute_reply": "2023-02-23T13:41:43.800117Z"
    },
    "papermill": {
     "duration": 0.021333,
     "end_time": "2023-02-23T13:41:43.803672",
     "exception": false,
     "start_time": "2023-02-23T13:41:43.782339",
     "status": "completed"
    },
    "tags": []
   },
   "outputs": [],
   "source": [
    "def remove_punct(row):\n",
    "    row = \" \".join(x for x in row if x not in exclude)\n",
    "    return row"
   ]
  },
  {
   "cell_type": "code",
   "execution_count": 13,
   "id": "e4b9dc9e",
   "metadata": {
    "execution": {
     "iopub.execute_input": "2023-02-23T13:41:43.828819Z",
     "iopub.status.busy": "2023-02-23T13:41:43.828304Z",
     "iopub.status.idle": "2023-02-23T13:41:43.882451Z",
     "shell.execute_reply": "2023-02-23T13:41:43.880930Z"
    },
    "papermill": {
     "duration": 0.070135,
     "end_time": "2023-02-23T13:41:43.885395",
     "exception": false,
     "start_time": "2023-02-23T13:41:43.815260",
     "status": "completed"
    },
    "tags": []
   },
   "outputs": [
    {
     "data": {
      "text/html": [
       "<div>\n",
       "<style scoped>\n",
       "    .dataframe tbody tr th:only-of-type {\n",
       "        vertical-align: middle;\n",
       "    }\n",
       "\n",
       "    .dataframe tbody tr th {\n",
       "        vertical-align: top;\n",
       "    }\n",
       "\n",
       "    .dataframe thead th {\n",
       "        text-align: right;\n",
       "    }\n",
       "</style>\n",
       "<table border=\"1\" class=\"dataframe\">\n",
       "  <thead>\n",
       "    <tr style=\"text-align: right;\">\n",
       "      <th></th>\n",
       "      <th>text</th>\n",
       "      <th>target</th>\n",
       "      <th>overview_length</th>\n",
       "      <th>Tokenized</th>\n",
       "      <th>Removed_punct</th>\n",
       "    </tr>\n",
       "  </thead>\n",
       "  <tbody>\n",
       "    <tr>\n",
       "      <th>0</th>\n",
       "      <td>Our Deeds are the Reason of this #earthquake M...</td>\n",
       "      <td>1</td>\n",
       "      <td>69</td>\n",
       "      <td>[Our, Deeds, are, the, Reason, of, this, #, ea...</td>\n",
       "      <td>Our Deeds are the Reason of this earthquake Ma...</td>\n",
       "    </tr>\n",
       "    <tr>\n",
       "      <th>1</th>\n",
       "      <td>Forest fire near La Ronge Sask. Canada</td>\n",
       "      <td>1</td>\n",
       "      <td>38</td>\n",
       "      <td>[Forest, fire, near, La, Ronge, Sask, ., Canada]</td>\n",
       "      <td>Forest fire near La Ronge Sask Canada</td>\n",
       "    </tr>\n",
       "    <tr>\n",
       "      <th>2</th>\n",
       "      <td>All residents asked to 'shelter in place' are ...</td>\n",
       "      <td>1</td>\n",
       "      <td>133</td>\n",
       "      <td>[All, residents, asked, to, 'shelter, in, plac...</td>\n",
       "      <td>All residents asked to 'shelter in place are b...</td>\n",
       "    </tr>\n",
       "    <tr>\n",
       "      <th>3</th>\n",
       "      <td>13,000 people receive #wildfires evacuation or...</td>\n",
       "      <td>1</td>\n",
       "      <td>65</td>\n",
       "      <td>[13,000, people, receive, #, wildfires, evacua...</td>\n",
       "      <td>13,000 people receive wildfires evacuation ord...</td>\n",
       "    </tr>\n",
       "    <tr>\n",
       "      <th>4</th>\n",
       "      <td>Just got sent this photo from Ruby #Alaska as ...</td>\n",
       "      <td>1</td>\n",
       "      <td>88</td>\n",
       "      <td>[Just, got, sent, this, photo, from, Ruby, #, ...</td>\n",
       "      <td>Just got sent this photo from Ruby Alaska as s...</td>\n",
       "    </tr>\n",
       "  </tbody>\n",
       "</table>\n",
       "</div>"
      ],
      "text/plain": [
       "                                                text  target  overview_length  \\\n",
       "0  Our Deeds are the Reason of this #earthquake M...       1               69   \n",
       "1             Forest fire near La Ronge Sask. Canada       1               38   \n",
       "2  All residents asked to 'shelter in place' are ...       1              133   \n",
       "3  13,000 people receive #wildfires evacuation or...       1               65   \n",
       "4  Just got sent this photo from Ruby #Alaska as ...       1               88   \n",
       "\n",
       "                                           Tokenized  \\\n",
       "0  [Our, Deeds, are, the, Reason, of, this, #, ea...   \n",
       "1   [Forest, fire, near, La, Ronge, Sask, ., Canada]   \n",
       "2  [All, residents, asked, to, 'shelter, in, plac...   \n",
       "3  [13,000, people, receive, #, wildfires, evacua...   \n",
       "4  [Just, got, sent, this, photo, from, Ruby, #, ...   \n",
       "\n",
       "                                       Removed_punct  \n",
       "0  Our Deeds are the Reason of this earthquake Ma...  \n",
       "1              Forest fire near La Ronge Sask Canada  \n",
       "2  All residents asked to 'shelter in place are b...  \n",
       "3  13,000 people receive wildfires evacuation ord...  \n",
       "4  Just got sent this photo from Ruby Alaska as s...  "
      ]
     },
     "execution_count": 13,
     "metadata": {},
     "output_type": "execute_result"
    }
   ],
   "source": [
    "df_select['Removed_punct'] = df_select['Tokenized'].apply(remove_punct)\n",
    "df_select.head()"
   ]
  },
  {
   "cell_type": "code",
   "execution_count": 14,
   "id": "9f9afe20",
   "metadata": {
    "execution": {
     "iopub.execute_input": "2023-02-23T13:41:43.912559Z",
     "iopub.status.busy": "2023-02-23T13:41:43.911738Z",
     "iopub.status.idle": "2023-02-23T13:41:43.919671Z",
     "shell.execute_reply": "2023-02-23T13:41:43.918440Z"
    },
    "papermill": {
     "duration": 0.02404,
     "end_time": "2023-02-23T13:41:43.922008",
     "exception": false,
     "start_time": "2023-02-23T13:41:43.897968",
     "status": "completed"
    },
    "tags": []
   },
   "outputs": [
    {
     "data": {
      "text/plain": [
       "'Our Deeds are the Reason of this earthquake May ALLAH Forgive us all'"
      ]
     },
     "execution_count": 14,
     "metadata": {},
     "output_type": "execute_result"
    }
   ],
   "source": [
    "df_select['Removed_punct'][0]"
   ]
  },
  {
   "cell_type": "code",
   "execution_count": 15,
   "id": "067557c7",
   "metadata": {
    "execution": {
     "iopub.execute_input": "2023-02-23T13:41:43.948694Z",
     "iopub.status.busy": "2023-02-23T13:41:43.947810Z",
     "iopub.status.idle": "2023-02-23T13:41:43.955469Z",
     "shell.execute_reply": "2023-02-23T13:41:43.953807Z"
    },
    "papermill": {
     "duration": 0.023845,
     "end_time": "2023-02-23T13:41:43.958068",
     "exception": false,
     "start_time": "2023-02-23T13:41:43.934223",
     "status": "completed"
    },
    "tags": []
   },
   "outputs": [],
   "source": [
    "## Remove numbers\n",
    "\n",
    "def clean_text(text):\n",
    "    # remove numbers\n",
    "    text_nonum = re.sub(r'\\d+', '', text)\n",
    "    # remove punctuations and convert characters to lower case\n",
    "    text_nopunct = \"\".join([char.lower() for char in text_nonum if char not in string.punctuation]) \n",
    "    # substitute multiple whitespace with single whitespace\n",
    "    # Also, removes leading and trailing whitespaces\n",
    "    text_no_doublespace = re.sub('\\s+', ' ', text_nopunct).strip()\n",
    "    return text_no_doublespace\n"
   ]
  },
  {
   "cell_type": "code",
   "execution_count": 16,
   "id": "1cf7c3d2",
   "metadata": {
    "execution": {
     "iopub.execute_input": "2023-02-23T13:41:43.984045Z",
     "iopub.status.busy": "2023-02-23T13:41:43.983544Z",
     "iopub.status.idle": "2023-02-23T13:41:44.258641Z",
     "shell.execute_reply": "2023-02-23T13:41:44.257606Z"
    },
    "papermill": {
     "duration": 0.290694,
     "end_time": "2023-02-23T13:41:44.260904",
     "exception": false,
     "start_time": "2023-02-23T13:41:43.970210",
     "status": "completed"
    },
    "tags": []
   },
   "outputs": [
    {
     "data": {
      "text/html": [
       "<div>\n",
       "<style scoped>\n",
       "    .dataframe tbody tr th:only-of-type {\n",
       "        vertical-align: middle;\n",
       "    }\n",
       "\n",
       "    .dataframe tbody tr th {\n",
       "        vertical-align: top;\n",
       "    }\n",
       "\n",
       "    .dataframe thead th {\n",
       "        text-align: right;\n",
       "    }\n",
       "</style>\n",
       "<table border=\"1\" class=\"dataframe\">\n",
       "  <thead>\n",
       "    <tr style=\"text-align: right;\">\n",
       "      <th></th>\n",
       "      <th>text</th>\n",
       "      <th>target</th>\n",
       "      <th>overview_length</th>\n",
       "      <th>Tokenized</th>\n",
       "      <th>Removed_punct</th>\n",
       "      <th>No_numbers</th>\n",
       "    </tr>\n",
       "  </thead>\n",
       "  <tbody>\n",
       "    <tr>\n",
       "      <th>0</th>\n",
       "      <td>Our Deeds are the Reason of this #earthquake M...</td>\n",
       "      <td>1</td>\n",
       "      <td>69</td>\n",
       "      <td>[Our, Deeds, are, the, Reason, of, this, #, ea...</td>\n",
       "      <td>Our Deeds are the Reason of this earthquake Ma...</td>\n",
       "      <td>our deeds are the reason of this earthquake ma...</td>\n",
       "    </tr>\n",
       "    <tr>\n",
       "      <th>1</th>\n",
       "      <td>Forest fire near La Ronge Sask. Canada</td>\n",
       "      <td>1</td>\n",
       "      <td>38</td>\n",
       "      <td>[Forest, fire, near, La, Ronge, Sask, ., Canada]</td>\n",
       "      <td>Forest fire near La Ronge Sask Canada</td>\n",
       "      <td>forest fire near la ronge sask canada</td>\n",
       "    </tr>\n",
       "    <tr>\n",
       "      <th>2</th>\n",
       "      <td>All residents asked to 'shelter in place' are ...</td>\n",
       "      <td>1</td>\n",
       "      <td>133</td>\n",
       "      <td>[All, residents, asked, to, 'shelter, in, plac...</td>\n",
       "      <td>All residents asked to 'shelter in place are b...</td>\n",
       "      <td>all residents asked to shelter in place are be...</td>\n",
       "    </tr>\n",
       "    <tr>\n",
       "      <th>3</th>\n",
       "      <td>13,000 people receive #wildfires evacuation or...</td>\n",
       "      <td>1</td>\n",
       "      <td>65</td>\n",
       "      <td>[13,000, people, receive, #, wildfires, evacua...</td>\n",
       "      <td>13,000 people receive wildfires evacuation ord...</td>\n",
       "      <td>people receive wildfires evacuation orders in ...</td>\n",
       "    </tr>\n",
       "    <tr>\n",
       "      <th>4</th>\n",
       "      <td>Just got sent this photo from Ruby #Alaska as ...</td>\n",
       "      <td>1</td>\n",
       "      <td>88</td>\n",
       "      <td>[Just, got, sent, this, photo, from, Ruby, #, ...</td>\n",
       "      <td>Just got sent this photo from Ruby Alaska as s...</td>\n",
       "      <td>just got sent this photo from ruby alaska as s...</td>\n",
       "    </tr>\n",
       "  </tbody>\n",
       "</table>\n",
       "</div>"
      ],
      "text/plain": [
       "                                                text  target  overview_length  \\\n",
       "0  Our Deeds are the Reason of this #earthquake M...       1               69   \n",
       "1             Forest fire near La Ronge Sask. Canada       1               38   \n",
       "2  All residents asked to 'shelter in place' are ...       1              133   \n",
       "3  13,000 people receive #wildfires evacuation or...       1               65   \n",
       "4  Just got sent this photo from Ruby #Alaska as ...       1               88   \n",
       "\n",
       "                                           Tokenized  \\\n",
       "0  [Our, Deeds, are, the, Reason, of, this, #, ea...   \n",
       "1   [Forest, fire, near, La, Ronge, Sask, ., Canada]   \n",
       "2  [All, residents, asked, to, 'shelter, in, plac...   \n",
       "3  [13,000, people, receive, #, wildfires, evacua...   \n",
       "4  [Just, got, sent, this, photo, from, Ruby, #, ...   \n",
       "\n",
       "                                       Removed_punct  \\\n",
       "0  Our Deeds are the Reason of this earthquake Ma...   \n",
       "1              Forest fire near La Ronge Sask Canada   \n",
       "2  All residents asked to 'shelter in place are b...   \n",
       "3  13,000 people receive wildfires evacuation ord...   \n",
       "4  Just got sent this photo from Ruby Alaska as s...   \n",
       "\n",
       "                                          No_numbers  \n",
       "0  our deeds are the reason of this earthquake ma...  \n",
       "1              forest fire near la ronge sask canada  \n",
       "2  all residents asked to shelter in place are be...  \n",
       "3  people receive wildfires evacuation orders in ...  \n",
       "4  just got sent this photo from ruby alaska as s...  "
      ]
     },
     "execution_count": 16,
     "metadata": {},
     "output_type": "execute_result"
    }
   ],
   "source": [
    "df_select['No_numbers']= df_select['Removed_punct'].apply(clean_text)\n",
    "df_select.head()"
   ]
  },
  {
   "cell_type": "code",
   "execution_count": 17,
   "id": "3afda9b2",
   "metadata": {
    "execution": {
     "iopub.execute_input": "2023-02-23T13:41:44.290016Z",
     "iopub.status.busy": "2023-02-23T13:41:44.289142Z",
     "iopub.status.idle": "2023-02-23T13:41:44.294506Z",
     "shell.execute_reply": "2023-02-23T13:41:44.293635Z"
    },
    "papermill": {
     "duration": 0.023108,
     "end_time": "2023-02-23T13:41:44.296936",
     "exception": false,
     "start_time": "2023-02-23T13:41:44.273828",
     "status": "completed"
    },
    "tags": []
   },
   "outputs": [],
   "source": [
    "#Lemmatization\n",
    "\n",
    "\n",
    "lemmatizer = WordNetLemmatizer()\n",
    "def lemm_text(row):\n",
    "    row = \" \".join(lemmatizer.lemmatize(x) for x in row.split())\n",
    "    return row"
   ]
  },
  {
   "cell_type": "code",
   "execution_count": 18,
   "id": "1e69bf45",
   "metadata": {
    "execution": {
     "iopub.execute_input": "2023-02-23T13:41:44.323923Z",
     "iopub.status.busy": "2023-02-23T13:41:44.323435Z",
     "iopub.status.idle": "2023-02-23T13:41:47.105117Z",
     "shell.execute_reply": "2023-02-23T13:41:47.103898Z"
    },
    "papermill": {
     "duration": 2.798339,
     "end_time": "2023-02-23T13:41:47.107704",
     "exception": false,
     "start_time": "2023-02-23T13:41:44.309365",
     "status": "completed"
    },
    "tags": []
   },
   "outputs": [
    {
     "data": {
      "text/html": [
       "<div>\n",
       "<style scoped>\n",
       "    .dataframe tbody tr th:only-of-type {\n",
       "        vertical-align: middle;\n",
       "    }\n",
       "\n",
       "    .dataframe tbody tr th {\n",
       "        vertical-align: top;\n",
       "    }\n",
       "\n",
       "    .dataframe thead th {\n",
       "        text-align: right;\n",
       "    }\n",
       "</style>\n",
       "<table border=\"1\" class=\"dataframe\">\n",
       "  <thead>\n",
       "    <tr style=\"text-align: right;\">\n",
       "      <th></th>\n",
       "      <th>text</th>\n",
       "      <th>target</th>\n",
       "      <th>overview_length</th>\n",
       "      <th>Tokenized</th>\n",
       "      <th>Removed_punct</th>\n",
       "      <th>No_numbers</th>\n",
       "      <th>lem text</th>\n",
       "    </tr>\n",
       "  </thead>\n",
       "  <tbody>\n",
       "    <tr>\n",
       "      <th>0</th>\n",
       "      <td>Our Deeds are the Reason of this #earthquake M...</td>\n",
       "      <td>1</td>\n",
       "      <td>69</td>\n",
       "      <td>[Our, Deeds, are, the, Reason, of, this, #, ea...</td>\n",
       "      <td>Our Deeds are the Reason of this earthquake Ma...</td>\n",
       "      <td>our deeds are the reason of this earthquake ma...</td>\n",
       "      <td>our deed are the reason of this earthquake may...</td>\n",
       "    </tr>\n",
       "    <tr>\n",
       "      <th>1</th>\n",
       "      <td>Forest fire near La Ronge Sask. Canada</td>\n",
       "      <td>1</td>\n",
       "      <td>38</td>\n",
       "      <td>[Forest, fire, near, La, Ronge, Sask, ., Canada]</td>\n",
       "      <td>Forest fire near La Ronge Sask Canada</td>\n",
       "      <td>forest fire near la ronge sask canada</td>\n",
       "      <td>forest fire near la ronge sask canada</td>\n",
       "    </tr>\n",
       "    <tr>\n",
       "      <th>2</th>\n",
       "      <td>All residents asked to 'shelter in place' are ...</td>\n",
       "      <td>1</td>\n",
       "      <td>133</td>\n",
       "      <td>[All, residents, asked, to, 'shelter, in, plac...</td>\n",
       "      <td>All residents asked to 'shelter in place are b...</td>\n",
       "      <td>all residents asked to shelter in place are be...</td>\n",
       "      <td>all resident asked to shelter in place are bei...</td>\n",
       "    </tr>\n",
       "    <tr>\n",
       "      <th>3</th>\n",
       "      <td>13,000 people receive #wildfires evacuation or...</td>\n",
       "      <td>1</td>\n",
       "      <td>65</td>\n",
       "      <td>[13,000, people, receive, #, wildfires, evacua...</td>\n",
       "      <td>13,000 people receive wildfires evacuation ord...</td>\n",
       "      <td>people receive wildfires evacuation orders in ...</td>\n",
       "      <td>people receive wildfire evacuation order in ca...</td>\n",
       "    </tr>\n",
       "    <tr>\n",
       "      <th>4</th>\n",
       "      <td>Just got sent this photo from Ruby #Alaska as ...</td>\n",
       "      <td>1</td>\n",
       "      <td>88</td>\n",
       "      <td>[Just, got, sent, this, photo, from, Ruby, #, ...</td>\n",
       "      <td>Just got sent this photo from Ruby Alaska as s...</td>\n",
       "      <td>just got sent this photo from ruby alaska as s...</td>\n",
       "      <td>just got sent this photo from ruby alaska a sm...</td>\n",
       "    </tr>\n",
       "  </tbody>\n",
       "</table>\n",
       "</div>"
      ],
      "text/plain": [
       "                                                text  target  overview_length  \\\n",
       "0  Our Deeds are the Reason of this #earthquake M...       1               69   \n",
       "1             Forest fire near La Ronge Sask. Canada       1               38   \n",
       "2  All residents asked to 'shelter in place' are ...       1              133   \n",
       "3  13,000 people receive #wildfires evacuation or...       1               65   \n",
       "4  Just got sent this photo from Ruby #Alaska as ...       1               88   \n",
       "\n",
       "                                           Tokenized  \\\n",
       "0  [Our, Deeds, are, the, Reason, of, this, #, ea...   \n",
       "1   [Forest, fire, near, La, Ronge, Sask, ., Canada]   \n",
       "2  [All, residents, asked, to, 'shelter, in, plac...   \n",
       "3  [13,000, people, receive, #, wildfires, evacua...   \n",
       "4  [Just, got, sent, this, photo, from, Ruby, #, ...   \n",
       "\n",
       "                                       Removed_punct  \\\n",
       "0  Our Deeds are the Reason of this earthquake Ma...   \n",
       "1              Forest fire near La Ronge Sask Canada   \n",
       "2  All residents asked to 'shelter in place are b...   \n",
       "3  13,000 people receive wildfires evacuation ord...   \n",
       "4  Just got sent this photo from Ruby Alaska as s...   \n",
       "\n",
       "                                          No_numbers  \\\n",
       "0  our deeds are the reason of this earthquake ma...   \n",
       "1              forest fire near la ronge sask canada   \n",
       "2  all residents asked to shelter in place are be...   \n",
       "3  people receive wildfires evacuation orders in ...   \n",
       "4  just got sent this photo from ruby alaska as s...   \n",
       "\n",
       "                                            lem text  \n",
       "0  our deed are the reason of this earthquake may...  \n",
       "1              forest fire near la ronge sask canada  \n",
       "2  all resident asked to shelter in place are bei...  \n",
       "3  people receive wildfire evacuation order in ca...  \n",
       "4  just got sent this photo from ruby alaska a sm...  "
      ]
     },
     "execution_count": 18,
     "metadata": {},
     "output_type": "execute_result"
    }
   ],
   "source": [
    "df_select['lem text'] = df_select['No_numbers'].apply(lemm_text)\n",
    "df_select.head()"
   ]
  },
  {
   "cell_type": "code",
   "execution_count": 19,
   "id": "ebc9be89",
   "metadata": {
    "execution": {
     "iopub.execute_input": "2023-02-23T13:41:47.134725Z",
     "iopub.status.busy": "2023-02-23T13:41:47.134234Z",
     "iopub.status.idle": "2023-02-23T13:41:47.147104Z",
     "shell.execute_reply": "2023-02-23T13:41:47.145709Z"
    },
    "papermill": {
     "duration": 0.029753,
     "end_time": "2023-02-23T13:41:47.149939",
     "exception": false,
     "start_time": "2023-02-23T13:41:47.120186",
     "status": "completed"
    },
    "tags": []
   },
   "outputs": [],
   "source": [
    "# A list of contractions from http://stackoverflow.com/questions/19790188/expanding-english-language-contractions-in-python\n",
    "contractions = { \n",
    "\"ain't\": \"am not\",\n",
    "\"aren't\": \"are not\",\n",
    "\"can't\": \"cannot\",\n",
    "\"can't've\": \"cannot have\",\n",
    "\"'cause\": \"because\",\n",
    "\"could've\": \"could have\",\n",
    "\"couldn't\": \"could not\",\n",
    "\"couldn't've\": \"could not have\",\n",
    "\"didn't\": \"did not\",\n",
    "\"doesn't\": \"does not\",\n",
    "\"don't\": \"do not\",\n",
    "\"hadn't\": \"had not\",\n",
    "\"hadn't've\": \"had not have\",\n",
    "\"hasn't\": \"has not\",\n",
    "\"haven't\": \"have not\",\n",
    "\"he'd\": \"he would\",\n",
    "\"he'd've\": \"he would have\",\n",
    "\"he'll\": \"he will\",\n",
    "\"he's\": \"he is\",\n",
    "\"how'd\": \"how did\",\n",
    "\"how'll\": \"how will\",\n",
    "\"how's\": \"how is\",\n",
    "\"i'd\": \"i would\",\n",
    "\"i'll\": \"i will\",\n",
    "\"i'm\": \"i am\",\n",
    "\"i've\": \"i have\",\n",
    "\"isn't\": \"is not\",\n",
    "\"it'd\": \"it would\",\n",
    "\"it'll\": \"it will\",\n",
    "\"it's\": \"it is\",\n",
    "\"let's\": \"let us\",\n",
    "\"ma'am\": \"madam\",\n",
    "\"mayn't\": \"may not\",\n",
    "\"might've\": \"might have\",\n",
    "\"mightn't\": \"might not\",\n",
    "\"must've\": \"must have\",\n",
    "\"mustn't\": \"must not\",\n",
    "\"needn't\": \"need not\",\n",
    "\"oughtn't\": \"ought not\",\n",
    "\"shan't\": \"shall not\",\n",
    "\"sha'n't\": \"shall not\",\n",
    "\"she'd\": \"she would\",\n",
    "\"she'll\": \"she will\",\n",
    "\"she's\": \"she is\",\n",
    "\"should've\": \"should have\",\n",
    "\"shouldn't\": \"should not\",\n",
    "\"that'd\": \"that would\",\n",
    "\"that's\": \"that is\",\n",
    "\"there'd\": \"there had\",\n",
    "\"there's\": \"there is\",\n",
    "\"they'd\": \"they would\",\n",
    "\"they'll\": \"they will\",\n",
    "\"they're\": \"they are\",\n",
    "\"they've\": \"they have\",\n",
    "\"wasn't\": \"was not\",\n",
    "\"we'd\": \"we would\",\n",
    "\"we'll\": \"we will\",\n",
    "\"we're\": \"we are\",\n",
    "\"we've\": \"we have\",\n",
    "\"weren't\": \"were not\",\n",
    "\"what'll\": \"what will\",\n",
    "\"what're\": \"what are\",\n",
    "\"what's\": \"what is\",\n",
    "\"what've\": \"what have\",\n",
    "\"where'd\": \"where did\",\n",
    "\"where's\": \"where is\",\n",
    "\"who'll\": \"who will\",\n",
    "\"who's\": \"who is\",\n",
    "\"won't\": \"will not\",\n",
    "\"wouldn't\": \"would not\",\n",
    "\"you'd\": \"you would\",\n",
    "\"you'll\": \"you will\",\n",
    "\"you're\": \"you are\"\n",
    "}"
   ]
  },
  {
   "cell_type": "code",
   "execution_count": 20,
   "id": "8349a57d",
   "metadata": {
    "execution": {
     "iopub.execute_input": "2023-02-23T13:41:47.177079Z",
     "iopub.status.busy": "2023-02-23T13:41:47.176584Z",
     "iopub.status.idle": "2023-02-23T13:41:47.184510Z",
     "shell.execute_reply": "2023-02-23T13:41:47.183227Z"
    },
    "papermill": {
     "duration": 0.024754,
     "end_time": "2023-02-23T13:41:47.187269",
     "exception": false,
     "start_time": "2023-02-23T13:41:47.162515",
     "status": "completed"
    },
    "tags": []
   },
   "outputs": [
    {
     "data": {
      "text/plain": [
       "'\\n    if True:\\n        text = text.split()\\n        new_text = []\\n        for word in text:\\n            if word in contractions:\\n                new_text.append(contractions[word])\\n            else:\\n                new_text.append(word)\\n        text = \" \".join(new_text)\\n '"
      ]
     },
     "execution_count": 20,
     "metadata": {},
     "output_type": "execute_result"
    }
   ],
   "source": [
    "'''\n",
    "    if True:\n",
    "        text = text.split()\n",
    "        new_text = []\n",
    "        for word in text:\n",
    "            if word in contractions:\n",
    "                new_text.append(contractions[word])\n",
    "            else:\n",
    "                new_text.append(word)\n",
    "        text = \" \".join(new_text)\n",
    " '''       "
   ]
  },
  {
   "cell_type": "code",
   "execution_count": 21,
   "id": "bbf2f22d",
   "metadata": {
    "execution": {
     "iopub.execute_input": "2023-02-23T13:41:47.214999Z",
     "iopub.status.busy": "2023-02-23T13:41:47.214526Z",
     "iopub.status.idle": "2023-02-23T13:41:47.223051Z",
     "shell.execute_reply": "2023-02-23T13:41:47.221553Z"
    },
    "papermill": {
     "duration": 0.025492,
     "end_time": "2023-02-23T13:41:47.225458",
     "exception": false,
     "start_time": "2023-02-23T13:41:47.199966",
     "status": "completed"
    },
    "tags": []
   },
   "outputs": [],
   "source": [
    "\n",
    "# Expand contractions\n",
    "def clean_text(text):\n",
    "\n",
    "    # Format words and remove unwanted characters\n",
    "    text = re.sub(r'https?:\\/\\/.*[\\r\\n]*', '', text, flags=re.MULTILINE)\n",
    "    text = re.sub(r'\\<a href', ' ', text)\n",
    "    text = re.sub(r'&amp;', '', text) \n",
    "    text = re.sub(r'[_\"\\-;%()|+&=*%.,!?:#$@\\[\\]/]', ' ', text)\n",
    "    text = re.sub(r'<br />', ' ', text)\n",
    "    text = re.sub(r'\\'', ' ', text)\n",
    "    text = re.sub(r'[^\\x00-\\x7F]+','', text)\n",
    "    #Remove numbers\n",
    "    text = re.sub(r'\\d+', '', text)\n",
    "    #Remove stop words\n",
    "    pat = r'\\b(?:{})\\b'.format('|'.join(stop))\n",
    "    text = text.replace(pat, '')\n",
    "    text = text.replace(r'\\s+', ' ')\n",
    "    return text.lower()\n",
    "    #return text"
   ]
  },
  {
   "cell_type": "code",
   "execution_count": 22,
   "id": "abca9977",
   "metadata": {
    "execution": {
     "iopub.execute_input": "2023-02-23T13:41:47.252812Z",
     "iopub.status.busy": "2023-02-23T13:41:47.252318Z",
     "iopub.status.idle": "2023-02-23T13:41:47.419937Z",
     "shell.execute_reply": "2023-02-23T13:41:47.418570Z"
    },
    "papermill": {
     "duration": 0.184515,
     "end_time": "2023-02-23T13:41:47.422736",
     "exception": false,
     "start_time": "2023-02-23T13:41:47.238221",
     "status": "completed"
    },
    "tags": []
   },
   "outputs": [
    {
     "data": {
      "text/html": [
       "<div>\n",
       "<style scoped>\n",
       "    .dataframe tbody tr th:only-of-type {\n",
       "        vertical-align: middle;\n",
       "    }\n",
       "\n",
       "    .dataframe tbody tr th {\n",
       "        vertical-align: top;\n",
       "    }\n",
       "\n",
       "    .dataframe thead th {\n",
       "        text-align: right;\n",
       "    }\n",
       "</style>\n",
       "<table border=\"1\" class=\"dataframe\">\n",
       "  <thead>\n",
       "    <tr style=\"text-align: right;\">\n",
       "      <th></th>\n",
       "      <th>text</th>\n",
       "      <th>target</th>\n",
       "      <th>overview_length</th>\n",
       "      <th>Tokenized</th>\n",
       "      <th>Removed_punct</th>\n",
       "      <th>No_numbers</th>\n",
       "      <th>lem text</th>\n",
       "      <th>test2</th>\n",
       "    </tr>\n",
       "  </thead>\n",
       "  <tbody>\n",
       "    <tr>\n",
       "      <th>0</th>\n",
       "      <td>Our Deeds are the Reason of this #earthquake M...</td>\n",
       "      <td>1</td>\n",
       "      <td>69</td>\n",
       "      <td>[Our, Deeds, are, the, Reason, of, this, #, ea...</td>\n",
       "      <td>Our Deeds are the Reason of this earthquake Ma...</td>\n",
       "      <td>our deeds are the reason of this earthquake ma...</td>\n",
       "      <td>our deed are the reason of this earthquake may...</td>\n",
       "      <td>our deeds are the reason of this  earthquake m...</td>\n",
       "    </tr>\n",
       "    <tr>\n",
       "      <th>1</th>\n",
       "      <td>Forest fire near La Ronge Sask. Canada</td>\n",
       "      <td>1</td>\n",
       "      <td>38</td>\n",
       "      <td>[Forest, fire, near, La, Ronge, Sask, ., Canada]</td>\n",
       "      <td>Forest fire near La Ronge Sask Canada</td>\n",
       "      <td>forest fire near la ronge sask canada</td>\n",
       "      <td>forest fire near la ronge sask canada</td>\n",
       "      <td>forest fire near la ronge sask  canada</td>\n",
       "    </tr>\n",
       "    <tr>\n",
       "      <th>2</th>\n",
       "      <td>All residents asked to 'shelter in place' are ...</td>\n",
       "      <td>1</td>\n",
       "      <td>133</td>\n",
       "      <td>[All, residents, asked, to, 'shelter, in, plac...</td>\n",
       "      <td>All residents asked to 'shelter in place are b...</td>\n",
       "      <td>all residents asked to shelter in place are be...</td>\n",
       "      <td>all resident asked to shelter in place are bei...</td>\n",
       "      <td>all residents asked to  shelter in place  are ...</td>\n",
       "    </tr>\n",
       "    <tr>\n",
       "      <th>3</th>\n",
       "      <td>13,000 people receive #wildfires evacuation or...</td>\n",
       "      <td>1</td>\n",
       "      <td>65</td>\n",
       "      <td>[13,000, people, receive, #, wildfires, evacua...</td>\n",
       "      <td>13,000 people receive wildfires evacuation ord...</td>\n",
       "      <td>people receive wildfires evacuation orders in ...</td>\n",
       "      <td>people receive wildfire evacuation order in ca...</td>\n",
       "      <td>people receive  wildfires evacuation orders ...</td>\n",
       "    </tr>\n",
       "    <tr>\n",
       "      <th>4</th>\n",
       "      <td>Just got sent this photo from Ruby #Alaska as ...</td>\n",
       "      <td>1</td>\n",
       "      <td>88</td>\n",
       "      <td>[Just, got, sent, this, photo, from, Ruby, #, ...</td>\n",
       "      <td>Just got sent this photo from Ruby Alaska as s...</td>\n",
       "      <td>just got sent this photo from ruby alaska as s...</td>\n",
       "      <td>just got sent this photo from ruby alaska a sm...</td>\n",
       "      <td>just got sent this photo from ruby  alaska as ...</td>\n",
       "    </tr>\n",
       "  </tbody>\n",
       "</table>\n",
       "</div>"
      ],
      "text/plain": [
       "                                                text  target  overview_length  \\\n",
       "0  Our Deeds are the Reason of this #earthquake M...       1               69   \n",
       "1             Forest fire near La Ronge Sask. Canada       1               38   \n",
       "2  All residents asked to 'shelter in place' are ...       1              133   \n",
       "3  13,000 people receive #wildfires evacuation or...       1               65   \n",
       "4  Just got sent this photo from Ruby #Alaska as ...       1               88   \n",
       "\n",
       "                                           Tokenized  \\\n",
       "0  [Our, Deeds, are, the, Reason, of, this, #, ea...   \n",
       "1   [Forest, fire, near, La, Ronge, Sask, ., Canada]   \n",
       "2  [All, residents, asked, to, 'shelter, in, plac...   \n",
       "3  [13,000, people, receive, #, wildfires, evacua...   \n",
       "4  [Just, got, sent, this, photo, from, Ruby, #, ...   \n",
       "\n",
       "                                       Removed_punct  \\\n",
       "0  Our Deeds are the Reason of this earthquake Ma...   \n",
       "1              Forest fire near La Ronge Sask Canada   \n",
       "2  All residents asked to 'shelter in place are b...   \n",
       "3  13,000 people receive wildfires evacuation ord...   \n",
       "4  Just got sent this photo from Ruby Alaska as s...   \n",
       "\n",
       "                                          No_numbers  \\\n",
       "0  our deeds are the reason of this earthquake ma...   \n",
       "1              forest fire near la ronge sask canada   \n",
       "2  all residents asked to shelter in place are be...   \n",
       "3  people receive wildfires evacuation orders in ...   \n",
       "4  just got sent this photo from ruby alaska as s...   \n",
       "\n",
       "                                            lem text  \\\n",
       "0  our deed are the reason of this earthquake may...   \n",
       "1              forest fire near la ronge sask canada   \n",
       "2  all resident asked to shelter in place are bei...   \n",
       "3  people receive wildfire evacuation order in ca...   \n",
       "4  just got sent this photo from ruby alaska a sm...   \n",
       "\n",
       "                                               test2  \n",
       "0  our deeds are the reason of this  earthquake m...  \n",
       "1             forest fire near la ronge sask  canada  \n",
       "2  all residents asked to  shelter in place  are ...  \n",
       "3    people receive  wildfires evacuation orders ...  \n",
       "4  just got sent this photo from ruby  alaska as ...  "
      ]
     },
     "execution_count": 22,
     "metadata": {},
     "output_type": "execute_result"
    }
   ],
   "source": [
    "df_select['test2']= df_select['text'].apply(clean_text)\n",
    "df_select.head()"
   ]
  },
  {
   "cell_type": "code",
   "execution_count": 23,
   "id": "f85e10ec",
   "metadata": {
    "execution": {
     "iopub.execute_input": "2023-02-23T13:41:47.451511Z",
     "iopub.status.busy": "2023-02-23T13:41:47.450684Z",
     "iopub.status.idle": "2023-02-23T13:41:48.602961Z",
     "shell.execute_reply": "2023-02-23T13:41:48.601711Z"
    },
    "papermill": {
     "duration": 1.169893,
     "end_time": "2023-02-23T13:41:48.605703",
     "exception": false,
     "start_time": "2023-02-23T13:41:47.435810",
     "status": "completed"
    },
    "tags": []
   },
   "outputs": [
    {
     "data": {
      "image/png": "[encoded data removed]",
      "text/plain": [
       "<Figure size 432x288 with 1 Axes>"
      ]
     },
     "metadata": {
      "needs_background": "light"
     },
     "output_type": "display_data"
    }
   ],
   "source": [
    "text = df_select['test2'].tolist()\n",
    "#create the wordcloud object\n",
    "# create the WordCloud object\n",
    "wordcloud = WordCloud(min_word_length =3,\n",
    "                      background_color='white')\n",
    "\n",
    "# generate the word cloud\n",
    "wordcloud.generate(str(text))\n",
    "plt.imshow(wordcloud)\n",
    "plt.axis(\"off\")\n",
    "plt.show()"
   ]
  },
  {
   "cell_type": "code",
   "execution_count": 24,
   "id": "83db7fe8",
   "metadata": {
    "execution": {
     "iopub.execute_input": "2023-02-23T13:41:48.637901Z",
     "iopub.status.busy": "2023-02-23T13:41:48.636452Z",
     "iopub.status.idle": "2023-02-23T13:41:48.917516Z",
     "shell.execute_reply": "2023-02-23T13:41:48.916007Z"
    },
    "papermill": {
     "duration": 0.300044,
     "end_time": "2023-02-23T13:41:48.920408",
     "exception": false,
     "start_time": "2023-02-23T13:41:48.620364",
     "status": "completed"
    },
    "tags": []
   },
   "outputs": [
    {
     "name": "stdout",
     "output_type": "stream",
     "text": [
      "[('fire', 147), ('new', 125), ('people', 77), ('will', 71), ('storm', 68)]\n",
      "[('new', 1.0), ('will', 0.9004739336492891), ('fire', 0.8815165876777251), ('one', 0.8815165876777251), ('people', 0.8056872037914692)]\n"
     ]
    }
   ],
   "source": [
    "# create a dictionary of word frequencies\n",
    "text = df_select[df_select['target']==1]['test2'].tolist()\n",
    "text = \" \".join(text)\n",
    "text_dictionary = wordcloud.process_text(text)\n",
    "# sort the dictionary\n",
    "word_freq={k: v for k, v in sorted(text_dictionary.items(),reverse=True, key=lambda item: item[1])}\n",
    "\n",
    "#use words_ to print relative word frequencies\n",
    "rel_freq=wordcloud.words_\n",
    "#print results\n",
    "print(list(word_freq.items())[:5])\n",
    "print(list(rel_freq.items())[:5])\n"
   ]
  },
  {
   "cell_type": "code",
   "execution_count": 25,
   "id": "278af8e0",
   "metadata": {
    "execution": {
     "iopub.execute_input": "2023-02-23T13:41:48.951794Z",
     "iopub.status.busy": "2023-02-23T13:41:48.950396Z",
     "iopub.status.idle": "2023-02-23T13:41:49.107485Z",
     "shell.execute_reply": "2023-02-23T13:41:49.106111Z"
    },
    "papermill": {
     "duration": 0.175758,
     "end_time": "2023-02-23T13:41:49.110598",
     "exception": false,
     "start_time": "2023-02-23T13:41:48.934840",
     "status": "completed"
    },
    "tags": []
   },
   "outputs": [],
   "source": [
    "#VEctorization\n",
    "Tf_vector = TfidfVectorizer()\n",
    "vectors = Tf_vector.fit_transform(df_select['test2'])"
   ]
  },
  {
   "cell_type": "code",
   "execution_count": 26,
   "id": "aee02e10",
   "metadata": {
    "execution": {
     "iopub.execute_input": "2023-02-23T13:41:49.140763Z",
     "iopub.status.busy": "2023-02-23T13:41:49.140287Z",
     "iopub.status.idle": "2023-02-23T13:41:49.852554Z",
     "shell.execute_reply": "2023-02-23T13:41:49.851464Z"
    },
    "papermill": {
     "duration": 0.730455,
     "end_time": "2023-02-23T13:41:49.855322",
     "exception": false,
     "start_time": "2023-02-23T13:41:49.124867",
     "status": "completed"
    },
    "tags": []
   },
   "outputs": [
    {
     "data": {
      "text/plain": [
       "array([[0., 0., 0., ..., 0., 0., 0.],\n",
       "       [0., 0., 0., ..., 0., 0., 0.],\n",
       "       [0., 0., 0., ..., 0., 0., 0.],\n",
       "       ...,\n",
       "       [0., 0., 0., ..., 0., 0., 0.],\n",
       "       [0., 0., 0., ..., 0., 0., 0.],\n",
       "       [0., 0., 0., ..., 0., 0., 0.]])"
      ]
     },
     "execution_count": 26,
     "metadata": {},
     "output_type": "execute_result"
    }
   ],
   "source": [
    "vectors.toarray()"
   ]
  },
  {
   "cell_type": "code",
   "execution_count": 27,
   "id": "30c378ce",
   "metadata": {
    "execution": {
     "iopub.execute_input": "2023-02-23T13:41:49.888679Z",
     "iopub.status.busy": "2023-02-23T13:41:49.887532Z",
     "iopub.status.idle": "2023-02-23T13:41:49.896911Z",
     "shell.execute_reply": "2023-02-23T13:41:49.895961Z"
    },
    "papermill": {
     "duration": 0.029371,
     "end_time": "2023-02-23T13:41:49.899678",
     "exception": false,
     "start_time": "2023-02-23T13:41:49.870307",
     "status": "completed"
    },
    "tags": []
   },
   "outputs": [],
   "source": [
    "## Modeling\n",
    "X_test, X_train, y_test, y_train = train_test_split(vectors, df_select['target'], test_size=0.30, random_state=42)"
   ]
  },
  {
   "cell_type": "code",
   "execution_count": 28,
   "id": "9c27a0f6",
   "metadata": {
    "execution": {
     "iopub.execute_input": "2023-02-23T13:41:49.930807Z",
     "iopub.status.busy": "2023-02-23T13:41:49.929923Z",
     "iopub.status.idle": "2023-02-23T13:41:49.935069Z",
     "shell.execute_reply": "2023-02-23T13:41:49.934197Z"
    },
    "papermill": {
     "duration": 0.023807,
     "end_time": "2023-02-23T13:41:49.937639",
     "exception": false,
     "start_time": "2023-02-23T13:41:49.913832",
     "status": "completed"
    },
    "tags": []
   },
   "outputs": [],
   "source": [
    "### Baseline model\n",
    "\n",
    "#model = MultinomialNB()"
   ]
  },
  {
   "cell_type": "code",
   "execution_count": 29,
   "id": "6a615ef3",
   "metadata": {
    "execution": {
     "iopub.execute_input": "2023-02-23T13:41:49.968833Z",
     "iopub.status.busy": "2023-02-23T13:41:49.967888Z",
     "iopub.status.idle": "2023-02-23T13:41:49.973526Z",
     "shell.execute_reply": "2023-02-23T13:41:49.972661Z"
    },
    "papermill": {
     "duration": 0.02429,
     "end_time": "2023-02-23T13:41:49.976133",
     "exception": false,
     "start_time": "2023-02-23T13:41:49.951843",
     "status": "completed"
    },
    "tags": []
   },
   "outputs": [],
   "source": [
    "### Model 2 \n",
    "from sklearn import svm\n",
    "model = svm.SVC()"
   ]
  },
  {
   "cell_type": "code",
   "execution_count": 30,
   "id": "f3a81bc3",
   "metadata": {
    "execution": {
     "iopub.execute_input": "2023-02-23T13:41:50.007667Z",
     "iopub.status.busy": "2023-02-23T13:41:50.006745Z",
     "iopub.status.idle": "2023-02-23T13:41:53.294211Z",
     "shell.execute_reply": "2023-02-23T13:41:53.292497Z"
    },
    "papermill": {
     "duration": 3.306779,
     "end_time": "2023-02-23T13:41:53.297188",
     "exception": false,
     "start_time": "2023-02-23T13:41:49.990409",
     "status": "completed"
    },
    "tags": []
   },
   "outputs": [
    {
     "name": "stdout",
     "output_type": "stream",
     "text": [
      "\n",
      "Train set score: 0.9772329246935202\n",
      "Test set score: 0.7691874648151623\n"
     ]
    }
   ],
   "source": [
    "model.fit(X_train, y_train)\n",
    "score_train = model.score(X_train, y_train)\n",
    "score_test = model.score(X_test, y_test)\n",
    "print(\"\\nTrain set score:\", score_train)\n",
    "print(\"Test set score:\", score_test)"
   ]
  },
  {
   "cell_type": "code",
   "execution_count": 31,
   "id": "82752606",
   "metadata": {
    "execution": {
     "iopub.execute_input": "2023-02-23T13:41:53.330198Z",
     "iopub.status.busy": "2023-02-23T13:41:53.329112Z",
     "iopub.status.idle": "2023-02-23T13:41:55.019908Z",
     "shell.execute_reply": "2023-02-23T13:41:55.018586Z"
    },
    "papermill": {
     "duration": 1.710104,
     "end_time": "2023-02-23T13:41:55.022923",
     "exception": false,
     "start_time": "2023-02-23T13:41:53.312819",
     "status": "completed"
    },
    "tags": []
   },
   "outputs": [],
   "source": [
    "y_pred = model.predict(X_test)"
   ]
  },
  {
   "cell_type": "code",
   "execution_count": 32,
   "id": "4d72dd68",
   "metadata": {
    "execution": {
     "iopub.execute_input": "2023-02-23T13:41:55.055958Z",
     "iopub.status.busy": "2023-02-23T13:41:55.054958Z",
     "iopub.status.idle": "2023-02-23T13:41:55.076338Z",
     "shell.execute_reply": "2023-02-23T13:41:55.074794Z"
    },
    "papermill": {
     "duration": 0.042035,
     "end_time": "2023-02-23T13:41:55.079757",
     "exception": false,
     "start_time": "2023-02-23T13:41:55.037722",
     "status": "completed"
    },
    "tags": []
   },
   "outputs": [
    {
     "name": "stdout",
     "output_type": "stream",
     "text": [
      "              precision    recall  f1-score   support\n",
      "\n",
      "           0       0.73      0.95      0.82      3024\n",
      "           1       0.88      0.54      0.67      2305\n",
      "\n",
      "    accuracy                           0.77      5329\n",
      "   macro avg       0.81      0.74      0.75      5329\n",
      "weighted avg       0.80      0.77      0.76      5329\n",
      "\n"
     ]
    }
   ],
   "source": [
    "from sklearn.metrics import classification_report\n",
    "print(classification_report(y_test, y_pred))"
   ]
  },
  {
   "cell_type": "code",
   "execution_count": 33,
   "id": "8e07b24f",
   "metadata": {
    "execution": {
     "iopub.execute_input": "2023-02-23T13:41:55.111730Z",
     "iopub.status.busy": "2023-02-23T13:41:55.111286Z",
     "iopub.status.idle": "2023-02-23T13:41:55.145705Z",
     "shell.execute_reply": "2023-02-23T13:41:55.144438Z"
    },
    "papermill": {
     "duration": 0.053717,
     "end_time": "2023-02-23T13:41:55.148564",
     "exception": false,
     "start_time": "2023-02-23T13:41:55.094847",
     "status": "completed"
    },
    "tags": []
   },
   "outputs": [
    {
     "data": {
      "text/html": [
       "<div>\n",
       "<style scoped>\n",
       "    .dataframe tbody tr th:only-of-type {\n",
       "        vertical-align: middle;\n",
       "    }\n",
       "\n",
       "    .dataframe tbody tr th {\n",
       "        vertical-align: top;\n",
       "    }\n",
       "\n",
       "    .dataframe thead th {\n",
       "        text-align: right;\n",
       "    }\n",
       "</style>\n",
       "<table border=\"1\" class=\"dataframe\">\n",
       "  <thead>\n",
       "    <tr style=\"text-align: right;\">\n",
       "      <th></th>\n",
       "      <th>id</th>\n",
       "      <th>keyword</th>\n",
       "      <th>location</th>\n",
       "      <th>text</th>\n",
       "    </tr>\n",
       "  </thead>\n",
       "  <tbody>\n",
       "    <tr>\n",
       "      <th>0</th>\n",
       "      <td>0</td>\n",
       "      <td>NaN</td>\n",
       "      <td>NaN</td>\n",
       "      <td>Just happened a terrible car crash</td>\n",
       "    </tr>\n",
       "    <tr>\n",
       "      <th>1</th>\n",
       "      <td>2</td>\n",
       "      <td>NaN</td>\n",
       "      <td>NaN</td>\n",
       "      <td>Heard about #earthquake is different cities, s...</td>\n",
       "    </tr>\n",
       "    <tr>\n",
       "      <th>2</th>\n",
       "      <td>3</td>\n",
       "      <td>NaN</td>\n",
       "      <td>NaN</td>\n",
       "      <td>there is a forest fire at spot pond, geese are...</td>\n",
       "    </tr>\n",
       "    <tr>\n",
       "      <th>3</th>\n",
       "      <td>9</td>\n",
       "      <td>NaN</td>\n",
       "      <td>NaN</td>\n",
       "      <td>Apocalypse lighting. #Spokane #wildfires</td>\n",
       "    </tr>\n",
       "    <tr>\n",
       "      <th>4</th>\n",
       "      <td>11</td>\n",
       "      <td>NaN</td>\n",
       "      <td>NaN</td>\n",
       "      <td>Typhoon Soudelor kills 28 in China and Taiwan</td>\n",
       "    </tr>\n",
       "  </tbody>\n",
       "</table>\n",
       "</div>"
      ],
      "text/plain": [
       "   id keyword location                                               text\n",
       "0   0     NaN      NaN                 Just happened a terrible car crash\n",
       "1   2     NaN      NaN  Heard about #earthquake is different cities, s...\n",
       "2   3     NaN      NaN  there is a forest fire at spot pond, geese are...\n",
       "3   9     NaN      NaN           Apocalypse lighting. #Spokane #wildfires\n",
       "4  11     NaN      NaN      Typhoon Soudelor kills 28 in China and Taiwan"
      ]
     },
     "execution_count": 33,
     "metadata": {},
     "output_type": "execute_result"
    }
   ],
   "source": [
    "## Read test file\n",
    "df_test = pd.read_csv('/kaggle/input/nlp-getting-started/test.csv')\n",
    "df_test.head()"
   ]
  },
  {
   "cell_type": "code",
   "execution_count": 34,
   "id": "4a3a5b1e",
   "metadata": {
    "execution": {
     "iopub.execute_input": "2023-02-23T13:41:55.180511Z",
     "iopub.status.busy": "2023-02-23T13:41:55.179986Z",
     "iopub.status.idle": "2023-02-23T13:41:55.191204Z",
     "shell.execute_reply": "2023-02-23T13:41:55.189890Z"
    },
    "papermill": {
     "duration": 0.030374,
     "end_time": "2023-02-23T13:41:55.193877",
     "exception": false,
     "start_time": "2023-02-23T13:41:55.163503",
     "status": "completed"
    },
    "tags": []
   },
   "outputs": [
    {
     "data": {
      "text/plain": [
       "0                      Just happened a terrible car crash\n",
       "1       Heard about #earthquake is different cities, s...\n",
       "2       there is a forest fire at spot pond, geese are...\n",
       "3                Apocalypse lighting. #Spokane #wildfires\n",
       "4           Typhoon Soudelor kills 28 in China and Taiwan\n",
       "                              ...                        \n",
       "3258    EARTHQUAKE SAFETY LOS ANGELES ÛÒ SAFETY FASTE...\n",
       "3259    Storm in RI worse than last hurricane. My city...\n",
       "3260    Green Line derailment in Chicago http://t.co/U...\n",
       "3261    MEG issues Hazardous Weather Outlook (HWO) htt...\n",
       "3262    #CityofCalgary has activated its Municipal Eme...\n",
       "Name: text, Length: 3263, dtype: object"
      ]
     },
     "execution_count": 34,
     "metadata": {},
     "output_type": "execute_result"
    }
   ],
   "source": [
    "df_test['text']"
   ]
  },
  {
   "cell_type": "code",
   "execution_count": 35,
   "id": "b8e1179f",
   "metadata": {
    "execution": {
     "iopub.execute_input": "2023-02-23T13:41:55.226205Z",
     "iopub.status.busy": "2023-02-23T13:41:55.225719Z",
     "iopub.status.idle": "2023-02-23T13:41:55.602817Z",
     "shell.execute_reply": "2023-02-23T13:41:55.601576Z"
    },
    "papermill": {
     "duration": 0.396435,
     "end_time": "2023-02-23T13:41:55.605480",
     "exception": false,
     "start_time": "2023-02-23T13:41:55.209045",
     "status": "completed"
    },
    "tags": []
   },
   "outputs": [
    {
     "data": {
      "text/plain": [
       "0                      just happened a terrible car crash\n",
       "1       heard about  earthquake is different cities  s...\n",
       "2       there is a forest fire at spot pond  geese are...\n",
       "3                apocalypse lighting   spokane  wildfires\n",
       "4             typhoon soudelor kills  in china and taiwan\n",
       "                              ...                        \n",
       "3258    earthquake safety los angeles  safety fastener...\n",
       "3259    storm in ri worse than last hurricane  my city...\n",
       "3260                    green line derailment in chicago \n",
       "3261          meg issues hazardous weather outlook  hwo  \n",
       "3262     cityofcalgary has activated its municipal eme...\n",
       "Name: text, Length: 3263, dtype: object"
      ]
     },
     "execution_count": 35,
     "metadata": {},
     "output_type": "execute_result"
    }
   ],
   "source": [
    "from sklearn.preprocessing import FunctionTransformer\n",
    "from sklearn.pipeline import Pipeline\n",
    "\n",
    "### Add vectorization.transform function to pipeline and model.predict to pipeline\n",
    "pipe_text = Pipeline([('col_test', FunctionTransformer(clean_text, validate=False))])\n",
    "df_test['text'] = df_test['text'].apply(lambda x : pipe_text.fit_transform(str(x)))\n",
    "df_test['text']"
   ]
  },
  {
   "cell_type": "code",
   "execution_count": 36,
   "id": "3a6953d7",
   "metadata": {
    "execution": {
     "iopub.execute_input": "2023-02-23T13:41:55.638400Z",
     "iopub.status.busy": "2023-02-23T13:41:55.637936Z",
     "iopub.status.idle": "2023-02-23T13:41:56.668137Z",
     "shell.execute_reply": "2023-02-23T13:41:56.666873Z"
    },
    "papermill": {
     "duration": 1.0501,
     "end_time": "2023-02-23T13:41:56.670975",
     "exception": false,
     "start_time": "2023-02-23T13:41:55.620875",
     "status": "completed"
    },
    "tags": []
   },
   "outputs": [],
   "source": [
    "pipe_predict = Pipeline([('vector',Tf_vector),('model',model)])#,,('model',model)\n",
    "predicted = pipe_predict.predict(df_test['text'])"
   ]
  },
  {
   "cell_type": "code",
   "execution_count": 37,
   "id": "3c08151d",
   "metadata": {
    "execution": {
     "iopub.execute_input": "2023-02-23T13:41:56.703549Z",
     "iopub.status.busy": "2023-02-23T13:41:56.702830Z",
     "iopub.status.idle": "2023-02-23T13:41:56.714586Z",
     "shell.execute_reply": "2023-02-23T13:41:56.713699Z"
    },
    "papermill": {
     "duration": 0.031043,
     "end_time": "2023-02-23T13:41:56.717244",
     "exception": false,
     "start_time": "2023-02-23T13:41:56.686201",
     "status": "completed"
    },
    "tags": []
   },
   "outputs": [],
   "source": [
    "## create submission file\n",
    "sample_submission = pd.read_csv('/kaggle/input/nlp-getting-started/sample_submission.csv')\n",
    "sample_submission['target']= predicted\n"
   ]
  },
  {
   "cell_type": "code",
   "execution_count": 38,
   "id": "65f56a7c",
   "metadata": {
    "execution": {
     "iopub.execute_input": "2023-02-23T13:41:56.751382Z",
     "iopub.status.busy": "2023-02-23T13:41:56.750665Z",
     "iopub.status.idle": "2023-02-23T13:41:56.760036Z",
     "shell.execute_reply": "2023-02-23T13:41:56.759170Z"
    },
    "papermill": {
     "duration": 0.029765,
     "end_time": "2023-02-23T13:41:56.762374",
     "exception": false,
     "start_time": "2023-02-23T13:41:56.732609",
     "status": "completed"
    },
    "tags": []
   },
   "outputs": [
    {
     "data": {
      "text/html": [
       "<div>\n",
       "<style scoped>\n",
       "    .dataframe tbody tr th:only-of-type {\n",
       "        vertical-align: middle;\n",
       "    }\n",
       "\n",
       "    .dataframe tbody tr th {\n",
       "        vertical-align: top;\n",
       "    }\n",
       "\n",
       "    .dataframe thead th {\n",
       "        text-align: right;\n",
       "    }\n",
       "</style>\n",
       "<table border=\"1\" class=\"dataframe\">\n",
       "  <thead>\n",
       "    <tr style=\"text-align: right;\">\n",
       "      <th></th>\n",
       "      <th>id</th>\n",
       "      <th>target</th>\n",
       "    </tr>\n",
       "  </thead>\n",
       "  <tbody>\n",
       "    <tr>\n",
       "      <th>0</th>\n",
       "      <td>0</td>\n",
       "      <td>1</td>\n",
       "    </tr>\n",
       "    <tr>\n",
       "      <th>1</th>\n",
       "      <td>2</td>\n",
       "      <td>0</td>\n",
       "    </tr>\n",
       "    <tr>\n",
       "      <th>2</th>\n",
       "      <td>3</td>\n",
       "      <td>1</td>\n",
       "    </tr>\n",
       "    <tr>\n",
       "      <th>3</th>\n",
       "      <td>9</td>\n",
       "      <td>0</td>\n",
       "    </tr>\n",
       "    <tr>\n",
       "      <th>4</th>\n",
       "      <td>11</td>\n",
       "      <td>1</td>\n",
       "    </tr>\n",
       "  </tbody>\n",
       "</table>\n",
       "</div>"
      ],
      "text/plain": [
       "   id  target\n",
       "0   0       1\n",
       "1   2       0\n",
       "2   3       1\n",
       "3   9       0\n",
       "4  11       1"
      ]
     },
     "execution_count": 38,
     "metadata": {},
     "output_type": "execute_result"
    }
   ],
   "source": [
    "sample_submission.head()"
   ]
  },
  {
   "cell_type": "code",
   "execution_count": 39,
   "id": "ea5840d3",
   "metadata": {
    "execution": {
     "iopub.execute_input": "2023-02-23T13:41:56.795851Z",
     "iopub.status.busy": "2023-02-23T13:41:56.795301Z",
     "iopub.status.idle": "2023-02-23T13:41:56.808009Z",
     "shell.execute_reply": "2023-02-23T13:41:56.806952Z"
    },
    "papermill": {
     "duration": 0.032345,
     "end_time": "2023-02-23T13:41:56.810766",
     "exception": false,
     "start_time": "2023-02-23T13:41:56.778421",
     "status": "completed"
    },
    "tags": []
   },
   "outputs": [],
   "source": [
    "sample_submission.to_csv('submission.csv', index=False)"
   ]
  }
 ],
 "metadata": {
  "kernelspec": {
   "display_name": "Python 3",
   "language": "python",
   "name": "python3"
  },
  "language_info": {
   "codemirror_mode": {
    "name": "ipython",
    "version": 3
   },
   "file_extension": ".py",
   "mimetype": "text/x-python",
   "name": "python",
   "nbconvert_exporter": "python",
   "pygments_lexer": "ipython3",
   "version": "3.7.12"
  },
  "papermill": {
   "default_parameters": {},
   "duration": 29.836095,
   "end_time": "2023-02-23T13:41:58.050968",
   "environment_variables": {},
   "exception": null,
   "input_path": "__notebook__.ipynb",
   "output_path": "__notebook__.ipynb",
   "parameters": {},
   "start_time": "2023-02-23T13:41:28.214873",
   "version": "2.3.4"
  }
 },
 "nbformat": 4,
 "nbformat_minor": 5
}
